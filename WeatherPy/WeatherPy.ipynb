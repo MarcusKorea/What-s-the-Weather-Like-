{
 "cells": [
  {
   "cell_type": "markdown",
   "id": "55e8b99e",
   "metadata": {},
   "source": [
    "### Import Packages"
   ]
  },
  {
   "cell_type": "code",
   "execution_count": 26,
   "id": "ea7d8547",
   "metadata": {},
   "outputs": [],
   "source": [
    "import pandas as pd\n",
    "import matplotlib.pyplot as plt\n",
    "from citipy import citipy\n",
    "import requests\n",
    "import json\n",
    "from api_keys import weather_api_key\n",
    "from api_keys import g_key\n",
    "import numpy as np\n",
    "from scipy import stats as stats\n",
    "import random\n",
    "from pprint import pprint"
   ]
  },
  {
   "cell_type": "markdown",
   "id": "341af58c",
   "metadata": {},
   "source": [
    "## Part I - WeatherPy"
   ]
  },
  {
   "cell_type": "markdown",
   "id": "f5682da6",
   "metadata": {},
   "source": [
    "#### Getting 500 or more random cities"
   ]
  },
  {
   "cell_type": "code",
   "execution_count": 2,
   "id": "73146c9f",
   "metadata": {},
   "outputs": [],
   "source": [
    "# set seed\n",
    "np.random.seed(45)\n",
    "\n",
    "# Create 1500 random latitude and longtitutde values\n",
    "# some coordinates might be similar so when using citipy to find the nearest city,\n",
    "# some cities might be duplicated so we create extra coordinates just in case\n",
    "\n",
    "lat = np.random.uniform(-90,90,1600)\n",
    "long = np.random.uniform(-180,180,1600)\n"
   ]
  },
  {
   "cell_type": "code",
   "execution_count": 3,
   "id": "4df6f02e",
   "metadata": {},
   "outputs": [],
   "source": [
    "# create a dataframe for the coordinates\n",
    "city_info = pd.DataFrame({'lat':lat,'long':long})"
   ]
  },
  {
   "cell_type": "code",
   "execution_count": 4,
   "id": "d38fbb69",
   "metadata": {},
   "outputs": [],
   "source": [
    "# store city names of the closest city to the coordinates\n",
    "\n",
    "city_name = []\n",
    "country_code = []\n",
    "for row in range(len(city_info)):\n",
    "    lat_cord = city_info.iloc[row][0]\n",
    "    long_cord = city_info.iloc[row][1]\n",
    "    city = citipy.nearest_city(lat_cord,long_cord)\n",
    "    city_name.append(city.city_name)\n",
    "    country_code.append(city.country_code)\n",
    "    "
   ]
  },
  {
   "cell_type": "code",
   "execution_count": 5,
   "id": "dab58602",
   "metadata": {},
   "outputs": [
    {
     "data": {
      "text/html": [
       "<div>\n",
       "<style scoped>\n",
       "    .dataframe tbody tr th:only-of-type {\n",
       "        vertical-align: middle;\n",
       "    }\n",
       "\n",
       "    .dataframe tbody tr th {\n",
       "        vertical-align: top;\n",
       "    }\n",
       "\n",
       "    .dataframe thead th {\n",
       "        text-align: right;\n",
       "    }\n",
       "</style>\n",
       "<table border=\"1\" class=\"dataframe\">\n",
       "  <thead>\n",
       "    <tr style=\"text-align: right;\">\n",
       "      <th></th>\n",
       "      <th>lat</th>\n",
       "      <th>long</th>\n",
       "      <th>closest city</th>\n",
       "      <th>country code</th>\n",
       "    </tr>\n",
       "  </thead>\n",
       "  <tbody>\n",
       "    <tr>\n",
       "      <th>0</th>\n",
       "      <td>88.022072</td>\n",
       "      <td>-175.179778</td>\n",
       "      <td>mys shmidta</td>\n",
       "      <td>ru</td>\n",
       "    </tr>\n",
       "    <tr>\n",
       "      <th>1</th>\n",
       "      <td>8.918051</td>\n",
       "      <td>84.955594</td>\n",
       "      <td>batticaloa</td>\n",
       "      <td>lk</td>\n",
       "    </tr>\n",
       "    <tr>\n",
       "      <th>2</th>\n",
       "      <td>-39.339486</td>\n",
       "      <td>26.073336</td>\n",
       "      <td>port elizabeth</td>\n",
       "      <td>za</td>\n",
       "    </tr>\n",
       "    <tr>\n",
       "      <th>3</th>\n",
       "      <td>-76.087878</td>\n",
       "      <td>157.534549</td>\n",
       "      <td>bluff</td>\n",
       "      <td>nz</td>\n",
       "    </tr>\n",
       "    <tr>\n",
       "      <th>4</th>\n",
       "      <td>-9.995491</td>\n",
       "      <td>-171.446738</td>\n",
       "      <td>saleaula</td>\n",
       "      <td>ws</td>\n",
       "    </tr>\n",
       "    <tr>\n",
       "      <th>...</th>\n",
       "      <td>...</td>\n",
       "      <td>...</td>\n",
       "      <td>...</td>\n",
       "      <td>...</td>\n",
       "    </tr>\n",
       "    <tr>\n",
       "      <th>1595</th>\n",
       "      <td>-13.173362</td>\n",
       "      <td>165.342630</td>\n",
       "      <td>sola</td>\n",
       "      <td>vu</td>\n",
       "    </tr>\n",
       "    <tr>\n",
       "      <th>1596</th>\n",
       "      <td>-38.308041</td>\n",
       "      <td>165.248190</td>\n",
       "      <td>westport</td>\n",
       "      <td>nz</td>\n",
       "    </tr>\n",
       "    <tr>\n",
       "      <th>1597</th>\n",
       "      <td>-24.947645</td>\n",
       "      <td>-156.211283</td>\n",
       "      <td>avarua</td>\n",
       "      <td>ck</td>\n",
       "    </tr>\n",
       "    <tr>\n",
       "      <th>1598</th>\n",
       "      <td>-87.001050</td>\n",
       "      <td>-135.655265</td>\n",
       "      <td>rikitea</td>\n",
       "      <td>pf</td>\n",
       "    </tr>\n",
       "    <tr>\n",
       "      <th>1599</th>\n",
       "      <td>57.718032</td>\n",
       "      <td>-77.707903</td>\n",
       "      <td>attawapiskat</td>\n",
       "      <td>ca</td>\n",
       "    </tr>\n",
       "  </tbody>\n",
       "</table>\n",
       "<p>1600 rows × 4 columns</p>\n",
       "</div>"
      ],
      "text/plain": [
       "            lat        long    closest city country code\n",
       "0     88.022072 -175.179778     mys shmidta           ru\n",
       "1      8.918051   84.955594      batticaloa           lk\n",
       "2    -39.339486   26.073336  port elizabeth           za\n",
       "3    -76.087878  157.534549           bluff           nz\n",
       "4     -9.995491 -171.446738        saleaula           ws\n",
       "...         ...         ...             ...          ...\n",
       "1595 -13.173362  165.342630            sola           vu\n",
       "1596 -38.308041  165.248190        westport           nz\n",
       "1597 -24.947645 -156.211283          avarua           ck\n",
       "1598 -87.001050 -135.655265         rikitea           pf\n",
       "1599  57.718032  -77.707903    attawapiskat           ca\n",
       "\n",
       "[1600 rows x 4 columns]"
      ]
     },
     "execution_count": 5,
     "metadata": {},
     "output_type": "execute_result"
    }
   ],
   "source": [
    "# add closest city and country codes to data frame\n",
    "city_info['closest city'] = city_name\n",
    "city_info['country code'] = country_code\n",
    "city_info"
   ]
  },
  {
   "cell_type": "code",
   "execution_count": 6,
   "id": "71d1935f",
   "metadata": {},
   "outputs": [
    {
     "name": "stdout",
     "output_type": "stream",
     "text": [
      " We have 645 unique cities\n"
     ]
    }
   ],
   "source": [
    "# remove the duplicate cities (if any)\n",
    "city_info = city_info.drop_duplicates('closest city')\n",
    "\n",
    "# check how many unique cities we have\n",
    "print(f' We have {city_info.shape[0]} unique cities')\n"
   ]
  },
  {
   "cell_type": "markdown",
   "id": "32205904",
   "metadata": {},
   "source": [
    "#### Using openweather API to to retrieve Temperature, Humidity, Cloudiness, Wind Speed"
   ]
  },
  {
   "cell_type": "code",
   "execution_count": 7,
   "id": "6e09b5d3",
   "metadata": {},
   "outputs": [],
   "source": [
    "# store everything needed for the url to read the api\n",
    "# url need when searching by geographical co ordinates\n",
    "coord_url = \"http://api.openweathermap.org/data/2.5/weather?\"\n",
    "units = \"&units=imperial\"\n",
    "weather_api_key = \"&appid=\"+weather_api_key"
   ]
  },
  {
   "cell_type": "code",
   "execution_count": 8,
   "id": "91e21b13",
   "metadata": {},
   "outputs": [],
   "source": [
    "# create extra columns in city_info\n",
    "temp = []\n",
    "humidity = []\n",
    "cloudiness = []\n",
    "wind_speed = []"
   ]
  },
  {
   "cell_type": "code",
   "execution_count": 9,
   "id": "adfb21b7",
   "metadata": {},
   "outputs": [],
   "source": [
    "lat = 'lat='+str(city_info['lat'][0])\n",
    "long = '&lon='+str(city_info['long'][0])\n",
    "\n",
    "# create the url\n",
    "new_url = coord_url+lat+long+weather_api_key+units\n",
    "    \n",
    "data =requests.get(new_url).json()\n"
   ]
  },
  {
   "cell_type": "code",
   "execution_count": 10,
   "id": "8ce5cd18",
   "metadata": {},
   "outputs": [
    {
     "name": "stderr",
     "output_type": "stream",
     "text": [
      "<ipython-input-10-54c2aeae9364>:2: SettingWithCopyWarning: \n",
      "A value is trying to be set on a copy of a slice from a DataFrame.\n",
      "Try using .loc[row_indexer,col_indexer] = value instead\n",
      "\n",
      "See the caveats in the documentation: https://pandas.pydata.org/pandas-docs/stable/user_guide/indexing.html#returning-a-view-versus-a-copy\n",
      "  city_info['temp'] = \" \"\n",
      "<ipython-input-10-54c2aeae9364>:3: SettingWithCopyWarning: \n",
      "A value is trying to be set on a copy of a slice from a DataFrame.\n",
      "Try using .loc[row_indexer,col_indexer] = value instead\n",
      "\n",
      "See the caveats in the documentation: https://pandas.pydata.org/pandas-docs/stable/user_guide/indexing.html#returning-a-view-versus-a-copy\n",
      "  city_info['humidity'] = \" \"\n",
      "<ipython-input-10-54c2aeae9364>:4: SettingWithCopyWarning: \n",
      "A value is trying to be set on a copy of a slice from a DataFrame.\n",
      "Try using .loc[row_indexer,col_indexer] = value instead\n",
      "\n",
      "See the caveats in the documentation: https://pandas.pydata.org/pandas-docs/stable/user_guide/indexing.html#returning-a-view-versus-a-copy\n",
      "  city_info['cloudiness'] = \" \"\n",
      "<ipython-input-10-54c2aeae9364>:5: SettingWithCopyWarning: \n",
      "A value is trying to be set on a copy of a slice from a DataFrame.\n",
      "Try using .loc[row_indexer,col_indexer] = value instead\n",
      "\n",
      "See the caveats in the documentation: https://pandas.pydata.org/pandas-docs/stable/user_guide/indexing.html#returning-a-view-versus-a-copy\n",
      "  city_info['wind speed'] = \" \"\n"
     ]
    },
    {
     "data": {
      "text/html": [
       "<div>\n",
       "<style scoped>\n",
       "    .dataframe tbody tr th:only-of-type {\n",
       "        vertical-align: middle;\n",
       "    }\n",
       "\n",
       "    .dataframe tbody tr th {\n",
       "        vertical-align: top;\n",
       "    }\n",
       "\n",
       "    .dataframe thead th {\n",
       "        text-align: right;\n",
       "    }\n",
       "</style>\n",
       "<table border=\"1\" class=\"dataframe\">\n",
       "  <thead>\n",
       "    <tr style=\"text-align: right;\">\n",
       "      <th></th>\n",
       "      <th>lat</th>\n",
       "      <th>long</th>\n",
       "      <th>closest city</th>\n",
       "      <th>country code</th>\n",
       "      <th>temp</th>\n",
       "      <th>humidity</th>\n",
       "      <th>cloudiness</th>\n",
       "      <th>wind speed</th>\n",
       "    </tr>\n",
       "  </thead>\n",
       "  <tbody>\n",
       "    <tr>\n",
       "      <th>0</th>\n",
       "      <td>88.022072</td>\n",
       "      <td>-175.179778</td>\n",
       "      <td>mys shmidta</td>\n",
       "      <td>ru</td>\n",
       "      <td></td>\n",
       "      <td></td>\n",
       "      <td></td>\n",
       "      <td></td>\n",
       "    </tr>\n",
       "    <tr>\n",
       "      <th>1</th>\n",
       "      <td>8.918051</td>\n",
       "      <td>84.955594</td>\n",
       "      <td>batticaloa</td>\n",
       "      <td>lk</td>\n",
       "      <td></td>\n",
       "      <td></td>\n",
       "      <td></td>\n",
       "      <td></td>\n",
       "    </tr>\n",
       "    <tr>\n",
       "      <th>2</th>\n",
       "      <td>-39.339486</td>\n",
       "      <td>26.073336</td>\n",
       "      <td>port elizabeth</td>\n",
       "      <td>za</td>\n",
       "      <td></td>\n",
       "      <td></td>\n",
       "      <td></td>\n",
       "      <td></td>\n",
       "    </tr>\n",
       "    <tr>\n",
       "      <th>3</th>\n",
       "      <td>-76.087878</td>\n",
       "      <td>157.534549</td>\n",
       "      <td>bluff</td>\n",
       "      <td>nz</td>\n",
       "      <td></td>\n",
       "      <td></td>\n",
       "      <td></td>\n",
       "      <td></td>\n",
       "    </tr>\n",
       "    <tr>\n",
       "      <th>4</th>\n",
       "      <td>-9.995491</td>\n",
       "      <td>-171.446738</td>\n",
       "      <td>saleaula</td>\n",
       "      <td>ws</td>\n",
       "      <td></td>\n",
       "      <td></td>\n",
       "      <td></td>\n",
       "      <td></td>\n",
       "    </tr>\n",
       "    <tr>\n",
       "      <th>...</th>\n",
       "      <td>...</td>\n",
       "      <td>...</td>\n",
       "      <td>...</td>\n",
       "      <td>...</td>\n",
       "      <td>...</td>\n",
       "      <td>...</td>\n",
       "      <td>...</td>\n",
       "      <td>...</td>\n",
       "    </tr>\n",
       "    <tr>\n",
       "      <th>1580</th>\n",
       "      <td>-0.308852</td>\n",
       "      <td>167.515575</td>\n",
       "      <td>tabiauea</td>\n",
       "      <td>ki</td>\n",
       "      <td></td>\n",
       "      <td></td>\n",
       "      <td></td>\n",
       "      <td></td>\n",
       "    </tr>\n",
       "    <tr>\n",
       "      <th>1584</th>\n",
       "      <td>-22.138052</td>\n",
       "      <td>-65.847254</td>\n",
       "      <td>villazon</td>\n",
       "      <td>bo</td>\n",
       "      <td></td>\n",
       "      <td></td>\n",
       "      <td></td>\n",
       "      <td></td>\n",
       "    </tr>\n",
       "    <tr>\n",
       "      <th>1586</th>\n",
       "      <td>43.686514</td>\n",
       "      <td>-81.089327</td>\n",
       "      <td>listowel</td>\n",
       "      <td>ca</td>\n",
       "      <td></td>\n",
       "      <td></td>\n",
       "      <td></td>\n",
       "      <td></td>\n",
       "    </tr>\n",
       "    <tr>\n",
       "      <th>1589</th>\n",
       "      <td>-18.603939</td>\n",
       "      <td>-48.129096</td>\n",
       "      <td>araguari</td>\n",
       "      <td>br</td>\n",
       "      <td></td>\n",
       "      <td></td>\n",
       "      <td></td>\n",
       "      <td></td>\n",
       "    </tr>\n",
       "    <tr>\n",
       "      <th>1591</th>\n",
       "      <td>-30.607592</td>\n",
       "      <td>-69.320527</td>\n",
       "      <td>san juan</td>\n",
       "      <td>ar</td>\n",
       "      <td></td>\n",
       "      <td></td>\n",
       "      <td></td>\n",
       "      <td></td>\n",
       "    </tr>\n",
       "  </tbody>\n",
       "</table>\n",
       "<p>645 rows × 8 columns</p>\n",
       "</div>"
      ],
      "text/plain": [
       "            lat        long    closest city country code temp humidity  \\\n",
       "0     88.022072 -175.179778     mys shmidta           ru                 \n",
       "1      8.918051   84.955594      batticaloa           lk                 \n",
       "2    -39.339486   26.073336  port elizabeth           za                 \n",
       "3    -76.087878  157.534549           bluff           nz                 \n",
       "4     -9.995491 -171.446738        saleaula           ws                 \n",
       "...         ...         ...             ...          ...  ...      ...   \n",
       "1580  -0.308852  167.515575        tabiauea           ki                 \n",
       "1584 -22.138052  -65.847254        villazon           bo                 \n",
       "1586  43.686514  -81.089327        listowel           ca                 \n",
       "1589 -18.603939  -48.129096        araguari           br                 \n",
       "1591 -30.607592  -69.320527        san juan           ar                 \n",
       "\n",
       "     cloudiness wind speed  \n",
       "0                           \n",
       "1                           \n",
       "2                           \n",
       "3                           \n",
       "4                           \n",
       "...         ...        ...  \n",
       "1580                        \n",
       "1584                        \n",
       "1586                        \n",
       "1589                        \n",
       "1591                        \n",
       "\n",
       "[645 rows x 8 columns]"
      ]
     },
     "execution_count": 10,
     "metadata": {},
     "output_type": "execute_result"
    }
   ],
   "source": [
    "# create empty columns \n",
    "city_info['temp'] = \" \"\n",
    "city_info['humidity'] = \" \"\n",
    "city_info['cloudiness'] = \" \"\n",
    "city_info['wind speed'] = \" \"\n",
    "city_info"
   ]
  },
  {
   "cell_type": "code",
   "execution_count": 14,
   "id": "4a3976e9",
   "metadata": {
    "scrolled": true
   },
   "outputs": [
    {
     "name": "stdout",
     "output_type": "stream",
     "text": [
      "starting search... (this may take a while)\n",
      "Retreiving data for Batticaloa, this is city number: 1.\n",
      "Retreiving data for Port Elizabeth, this is city number: 2.\n",
      "Retreiving data for Bluff, this is city number: 3.\n",
      "Retreiving data for Omboue, this is city number: 4.\n",
      "Retreiving data for Bredasdorp, this is city number: 5.\n",
      "Retreiving data for Taolanaro, this is city number: 6.\n",
      "Can't find information for taolanaro... skipping.\n",
      "Retreiving data for Saint-Philippe, this is city number: 7.\n",
      "Retreiving data for Marti, this is city number: 8.\n",
      "Retreiving data for Tasiilaq, this is city number: 9.\n",
      "Retreiving data for Lompoc, this is city number: 10.\n",
      "Retreiving data for Qaanaaq, this is city number: 11.\n",
      "Retreiving data for Takoradi, this is city number: 12.\n",
      "Retreiving data for Sur, this is city number: 13.\n",
      "Retreiving data for Chuy, this is city number: 14.\n",
      "Retreiving data for Saskylakh, this is city number: 15.\n",
      "Retreiving data for Mehran, this is city number: 16.\n",
      "Retreiving data for Riberalta, this is city number: 17.\n",
      "Retreiving data for Rio Grande, this is city number: 18.\n",
      "Retreiving data for Amapa, this is city number: 19.\n",
      "Retreiving data for Vaini, this is city number: 20.\n",
      "Retreiving data for Georgetown, this is city number: 21.\n",
      "Retreiving data for Mahebourg, this is city number: 22.\n",
      "Retreiving data for Chipinge, this is city number: 23.\n",
      "Retreiving data for Okhotsk, this is city number: 24.\n",
      "Retreiving data for Hobart, this is city number: 25.\n",
      "Retreiving data for Narsaq, this is city number: 26.\n",
      "Retreiving data for Kamaishi, this is city number: 27.\n",
      "Retreiving data for Ushuaia, this is city number: 28.\n",
      "Retreiving data for Ponta Do Sol, this is city number: 29.\n",
      "Retreiving data for Grao Mogol, this is city number: 30.\n",
      "Retreiving data for Tilichiki, this is city number: 31.\n",
      "Retreiving data for Te Anau, this is city number: 32.\n",
      "Retreiving data for Mwene-Ditu, this is city number: 33.\n",
      "Retreiving data for Sao Filipe, this is city number: 34.\n",
      "Retreiving data for Mataura, this is city number: 35.\n",
      "Retreiving data for Punta Arenas, this is city number: 36.\n",
      "Retreiving data for Oga, this is city number: 37.\n",
      "Retreiving data for Esperance, this is city number: 38.\n",
      "Retreiving data for Poshekhonye, this is city number: 39.\n",
      "Retreiving data for Puerto Ayora, this is city number: 40.\n",
      "Retreiving data for Tazovskiy, this is city number: 41.\n",
      "Retreiving data for Sentyabrskiy, this is city number: 42.\n",
      "Can't find information for sentyabrskiy... skipping.\n",
      "Retreiving data for Cape Town, this is city number: 43.\n",
      "Retreiving data for Yerbogachen, this is city number: 44.\n",
      "Retreiving data for East London, this is city number: 45.\n",
      "Retreiving data for Albany, this is city number: 46.\n",
      "Retreiving data for Belushya Guba, this is city number: 47.\n",
      "Can't find information for belushya guba... skipping.\n",
      "Retreiving data for Yaan, this is city number: 48.\n",
      "Retreiving data for Castro, this is city number: 49.\n",
      "Retreiving data for Longyearbyen, this is city number: 50.\n",
      "Retreiving data for Sabha, this is city number: 51.\n",
      "Retreiving data for Tautira, this is city number: 52.\n",
      "Retreiving data for Saurimo, this is city number: 53.\n",
      "Retreiving data for Tacuarembo, this is city number: 54.\n",
      "Retreiving data for Buraydah, this is city number: 55.\n",
      "Retreiving data for Orikum, this is city number: 56.\n",
      "Retreiving data for Requena, this is city number: 57.\n",
      "Retreiving data for Mar Del Plata, this is city number: 58.\n",
      "Retreiving data for Flinders, this is city number: 59.\n",
      "Retreiving data for Barawe, this is city number: 60.\n",
      "Can't find information for barawe... skipping.\n",
      "Retreiving data for Barrow, this is city number: 61.\n",
      "Retreiving data for Qasigiannguit, this is city number: 62.\n",
      "Retreiving data for Jamestown, this is city number: 63.\n",
      "Retreiving data for Hilo, this is city number: 64.\n",
      "Retreiving data for Tuktoyaktuk, this is city number: 65.\n",
      "Retreiving data for Fushun, this is city number: 66.\n",
      "Retreiving data for Ilinskiy, this is city number: 67.\n",
      "Retreiving data for Kapaa, this is city number: 68.\n",
      "Retreiving data for Dingle, this is city number: 69.\n",
      "Retreiving data for Guarda, this is city number: 70.\n",
      "Retreiving data for Busselton, this is city number: 71.\n",
      "Retreiving data for Qatana, this is city number: 72.\n",
      "Retreiving data for Wanning, this is city number: 73.\n",
      "Retreiving data for Ribeira Grande, this is city number: 74.\n",
      "Retreiving data for Rikitea, this is city number: 75.\n",
      "Retreiving data for Tiksi, this is city number: 76.\n",
      "Retreiving data for Yellowknife, this is city number: 77.\n",
      "Retreiving data for Luau, this is city number: 78.\n",
      "Retreiving data for Halifax, this is city number: 79.\n",
      "Retreiving data for Marsh Harbour, this is city number: 80.\n",
      "Retreiving data for Yambio, this is city number: 81.\n",
      "Retreiving data for Dawei, this is city number: 82.\n",
      "Retreiving data for Atuona, this is city number: 83.\n",
      "Retreiving data for Hermanus, this is city number: 84.\n",
      "Retreiving data for Avarua, this is city number: 85.\n",
      "Retreiving data for Port Alfred, this is city number: 86.\n",
      "Retreiving data for Kaitangata, this is city number: 87.\n",
      "Retreiving data for Bambous Virieux, this is city number: 88.\n",
      "Retreiving data for Karratha, this is city number: 89.\n",
      "Retreiving data for Noumea, this is city number: 90.\n",
      "Retreiving data for Shymkent, this is city number: 91.\n",
      "Retreiving data for Norman Wells, this is city number: 92.\n",
      "Retreiving data for Vila, this is city number: 93.\n",
      "Retreiving data for Illoqqortoormiut, this is city number: 94.\n",
      "Can't find information for illoqqortoormiut... skipping.\n",
      "Retreiving data for West Bay, this is city number: 95.\n",
      "Retreiving data for Bowmore, this is city number: 96.\n",
      "Retreiving data for Torbay, this is city number: 97.\n",
      "Retreiving data for Abbeville, this is city number: 98.\n",
      "Retreiving data for Ghanzi, this is city number: 99.\n",
      "Retreiving data for Rio Branco, this is city number: 100.\n",
      "Retreiving data for Santa Fe Do Sul, this is city number: 101.\n",
      "Retreiving data for Beocin, this is city number: 102.\n",
      "Retreiving data for Batagay, this is city number: 103.\n",
      "Retreiving data for Airai, this is city number: 104.\n",
      "Retreiving data for Victoria, this is city number: 105.\n",
      "Retreiving data for Ondjiva, this is city number: 106.\n",
      "Retreiving data for Butaritari, this is city number: 107.\n",
      "Retreiving data for Tiarei, this is city number: 108.\n",
      "Retreiving data for Talnakh, this is city number: 109.\n",
      "Retreiving data for Quelimane, this is city number: 110.\n",
      "Retreiving data for Port Blair, this is city number: 111.\n",
      "Retreiving data for Kodiak, this is city number: 112.\n",
      "Retreiving data for Bitung, this is city number: 113.\n",
      "Retreiving data for Chara, this is city number: 114.\n",
      "Retreiving data for Beloha, this is city number: 115.\n",
      "Retreiving data for Sao Sebastiao, this is city number: 116.\n",
      "Retreiving data for Padang, this is city number: 117.\n",
      "Retreiving data for Machali, this is city number: 118.\n",
      "Retreiving data for Rapid Valley, this is city number: 119.\n",
      "Retreiving data for Kavieng, this is city number: 120.\n",
      "Retreiving data for Wajir, this is city number: 121.\n",
      "Retreiving data for Vardo, this is city number: 122.\n",
      "Retreiving data for Arraial Do Cabo, this is city number: 123.\n",
      "Retreiving data for Nanortalik, this is city number: 124.\n",
      "Retreiving data for Lavrentiya, this is city number: 125.\n",
      "Retreiving data for Amderma, this is city number: 126.\n",
      "Can't find information for amderma... skipping.\n",
      "Retreiving data for Bandarbeyla, this is city number: 127.\n",
      "Retreiving data for Roma, this is city number: 128.\n",
      "Retreiving data for Sorland, this is city number: 129.\n",
      "Retreiving data for Mehamn, this is city number: 130.\n",
      "Retreiving data for Alofi, this is city number: 131.\n",
      "Retreiving data for Saint-Michel-Des-Saints, this is city number: 132.\n",
      "Retreiving data for Bathsheba, this is city number: 133.\n",
      "Retreiving data for Yar-Sale, this is city number: 134.\n",
      "Retreiving data for Masuguru, this is city number: 135.\n",
      "Retreiving data for Mackay, this is city number: 136.\n",
      "Retreiving data for Misratah, this is city number: 137.\n",
      "Retreiving data for Fasa, this is city number: 138.\n",
      "Retreiving data for Clyde River, this is city number: 139.\n",
      "Retreiving data for Aguada De Pasajeros, this is city number: 140.\n",
      "Retreiving data for Baykit, this is city number: 141.\n",
      "Retreiving data for Carauari, this is city number: 142.\n"
     ]
    },
    {
     "name": "stdout",
     "output_type": "stream",
     "text": [
      "Retreiving data for Cabo San Lucas, this is city number: 143.\n",
      "Retreiving data for Egvekinot, this is city number: 144.\n",
      "Retreiving data for Smithers, this is city number: 145.\n",
      "Retreiving data for Samarai, this is city number: 146.\n",
      "Retreiving data for Buinsk, this is city number: 147.\n",
      "Retreiving data for College, this is city number: 148.\n",
      "Retreiving data for Lasa, this is city number: 149.\n",
      "Retreiving data for Dzerzhinsk, this is city number: 150.\n",
      "Retreiving data for Breytovo, this is city number: 151.\n",
      "Retreiving data for Ekhabi, this is city number: 152.\n",
      "Retreiving data for Bloemhof, this is city number: 153.\n",
      "Retreiving data for Cap Malheureux, this is city number: 154.\n",
      "Retreiving data for Ihosy, this is city number: 155.\n",
      "Retreiving data for Bethel, this is city number: 156.\n",
      "Retreiving data for Vagur, this is city number: 157.\n",
      "Retreiving data for Bolungarvik, this is city number: 158.\n",
      "Can't find information for bolungarvik... skipping.\n",
      "Retreiving data for Marcona, this is city number: 159.\n",
      "Can't find information for marcona... skipping.\n",
      "Retreiving data for Susanville, this is city number: 160.\n",
      "Retreiving data for Souillac, this is city number: 161.\n",
      "Retreiving data for Barentsburg, this is city number: 162.\n",
      "Can't find information for barentsburg... skipping.\n",
      "Retreiving data for Cananea, this is city number: 163.\n",
      "Retreiving data for Roros, this is city number: 164.\n",
      "Retreiving data for Opuwo, this is city number: 165.\n",
      "Retreiving data for Kijang, this is city number: 166.\n",
      "Retreiving data for Nemuro, this is city number: 167.\n",
      "Retreiving data for Besancon, this is city number: 168.\n",
      "Retreiving data for Isangel, this is city number: 169.\n",
      "Retreiving data for Geraldton, this is city number: 170.\n",
      "Retreiving data for Nikolskoye, this is city number: 171.\n",
      "Retreiving data for Varhaug, this is city number: 172.\n",
      "Retreiving data for Nouadhibou, this is city number: 173.\n",
      "Retreiving data for Tuatapere, this is city number: 174.\n",
      "Retreiving data for Tondano, this is city number: 175.\n",
      "Retreiving data for Neuquen, this is city number: 176.\n",
      "Retreiving data for Vostok, this is city number: 177.\n",
      "Retreiving data for Camopi, this is city number: 178.\n",
      "Retreiving data for Liaoyang, this is city number: 179.\n",
      "Retreiving data for Merauke, this is city number: 180.\n",
      "Retreiving data for Houma, this is city number: 181.\n",
      "Retreiving data for Neryungri, this is city number: 182.\n",
      "Retreiving data for Samusu, this is city number: 183.\n",
      "Can't find information for samusu... skipping.\n",
      "Retreiving data for Togur, this is city number: 184.\n",
      "Retreiving data for Lorengau, this is city number: 185.\n",
      "Retreiving data for Mackenzie, this is city number: 186.\n",
      "Retreiving data for Kidal, this is city number: 187.\n",
      "Retreiving data for Jamsa, this is city number: 188.\n",
      "Retreiving data for Waingapu, this is city number: 189.\n",
      "Retreiving data for Mayo, this is city number: 190.\n",
      "Retreiving data for Tripoli, this is city number: 191.\n",
      "Retreiving data for Bilibino, this is city number: 192.\n",
      "Retreiving data for Suwalki, this is city number: 193.\n",
      "Retreiving data for Dien Bien, this is city number: 194.\n",
      "Can't find information for dien bien... skipping.\n",
      "Retreiving data for Korla, this is city number: 195.\n",
      "Retreiving data for Yenotayevka, this is city number: 196.\n",
      "Retreiving data for Uvira, this is city number: 197.\n",
      "Retreiving data for Pangody, this is city number: 198.\n",
      "Retreiving data for Ust-Omchug, this is city number: 199.\n",
      "Retreiving data for Saint George, this is city number: 200.\n",
      "Retreiving data for Waipawa, this is city number: 201.\n",
      "Retreiving data for Danielskuil, this is city number: 202.\n",
      "Retreiving data for Solnechnyy, this is city number: 203.\n",
      "Retreiving data for Kamina, this is city number: 204.\n",
      "Retreiving data for Leeton, this is city number: 205.\n",
      "Retreiving data for Santa Cruz, this is city number: 206.\n",
      "Retreiving data for Kalach-Na-Donu, this is city number: 207.\n",
      "Retreiving data for Dikson, this is city number: 208.\n",
      "Retreiving data for Oistins, this is city number: 209.\n",
      "Retreiving data for Vanavara, this is city number: 210.\n",
      "Retreiving data for Ketchikan, this is city number: 211.\n",
      "Retreiving data for Thompson, this is city number: 212.\n",
      "Retreiving data for Warri, this is city number: 213.\n",
      "Retreiving data for Fare, this is city number: 214.\n",
      "Retreiving data for Iqaluit, this is city number: 215.\n",
      "Retreiving data for Pisco, this is city number: 216.\n",
      "Retreiving data for Mrirt, this is city number: 217.\n",
      "Can't find information for mrirt... skipping.\n",
      "Retreiving data for Nizhniy Tsasuchey, this is city number: 218.\n",
      "Retreiving data for Ourossogui, this is city number: 219.\n",
      "Retreiving data for Ciudad Bolivar, this is city number: 220.\n",
      "Retreiving data for Belaya Gora, this is city number: 221.\n",
      "Retreiving data for Chokurdakh, this is city number: 222.\n",
      "Retreiving data for Tehachapi, this is city number: 223.\n",
      "Retreiving data for Kuchinarai, this is city number: 224.\n",
      "Retreiving data for Novobirilyussy, this is city number: 225.\n",
      "Retreiving data for Sambava, this is city number: 226.\n",
      "Retreiving data for Salamiyah, this is city number: 227.\n",
      "Retreiving data for Beringovskiy, this is city number: 228.\n",
      "Retreiving data for Angoche, this is city number: 229.\n",
      "Retreiving data for Los Llanos De Aridane, this is city number: 230.\n",
      "Retreiving data for Palimbang, this is city number: 231.\n",
      "Retreiving data for Pevek, this is city number: 232.\n",
      "Retreiving data for Port-Cartier, this is city number: 233.\n",
      "Retreiving data for Half Moon Bay, this is city number: 234.\n",
      "Retreiving data for Carnarvon, this is city number: 235.\n",
      "Retreiving data for Kulhudhuffushi, this is city number: 236.\n",
      "Retreiving data for Redditch, this is city number: 237.\n",
      "Retreiving data for Grenfell, this is city number: 238.\n",
      "Retreiving data for Camacupa, this is city number: 239.\n",
      "Retreiving data for Rio Gallegos, this is city number: 240.\n",
      "Retreiving data for Monze, this is city number: 241.\n",
      "Retreiving data for Bukama, this is city number: 242.\n",
      "Retreiving data for Klaksvik, this is city number: 243.\n",
      "Retreiving data for Port Hardy, this is city number: 244.\n",
      "Retreiving data for New Norfolk, this is city number: 245.\n",
      "Retreiving data for Vao, this is city number: 246.\n",
      "Retreiving data for Tessalit, this is city number: 247.\n",
      "Retreiving data for Lagoa, this is city number: 248.\n",
      "Retreiving data for Upernavik, this is city number: 249.\n",
      "Retreiving data for Kailua, this is city number: 250.\n",
      "Retreiving data for Port Lincoln, this is city number: 251.\n",
      "Retreiving data for Tamworth, this is city number: 252.\n",
      "Retreiving data for Xinmin, this is city number: 253.\n",
      "Retreiving data for Guerrero Negro, this is city number: 254.\n",
      "Retreiving data for Mount Gambier, this is city number: 255.\n",
      "Retreiving data for Nautla, this is city number: 256.\n",
      "Retreiving data for Mweka, this is city number: 257.\n",
      "Retreiving data for Obidos, this is city number: 258.\n",
      "Retreiving data for Zhigansk, this is city number: 259.\n",
      "Retreiving data for Ilulissat, this is city number: 260.\n",
      "Retreiving data for Kaspiyskiy, this is city number: 261.\n",
      "Retreiving data for Akureyri, this is city number: 262.\n",
      "Retreiving data for Chirongui, this is city number: 263.\n",
      "Retreiving data for Hithadhoo, this is city number: 264.\n",
      "Retreiving data for Monkey Bay, this is city number: 265.\n",
      "Retreiving data for Sheltozero, this is city number: 266.\n",
      "Retreiving data for Myitkyina, this is city number: 267.\n",
      "Retreiving data for Lebu, this is city number: 268.\n",
      "Retreiving data for Tumannyy, this is city number: 269.\n",
      "Can't find information for tumannyy... skipping.\n",
      "Retreiving data for Barroualie, this is city number: 270.\n",
      "Can't find information for barroualie... skipping.\n",
      "Retreiving data for Taoudenni, this is city number: 271.\n",
      "Retreiving data for Kazanovka, this is city number: 272.\n",
      "Can't find information for kazanovka... skipping.\n",
      "Retreiving data for Puerto Penasco, this is city number: 273.\n",
      "Retreiving data for Aporawan, this is city number: 274.\n",
      "Can't find information for aporawan... skipping.\n",
      "Retreiving data for Talesh, this is city number: 275.\n",
      "Can't find information for talesh... skipping.\n",
      "Retreiving data for Quesnel, this is city number: 276.\n",
      "Retreiving data for Oranjestad, this is city number: 277.\n",
      "Retreiving data for Urusha, this is city number: 278.\n"
     ]
    },
    {
     "name": "stdout",
     "output_type": "stream",
     "text": [
      "Retreiving data for Tsihombe, this is city number: 279.\n",
      "Can't find information for tsihombe... skipping.\n",
      "Retreiving data for Puerto Colombia, this is city number: 280.\n",
      "Retreiving data for Blatnica, this is city number: 281.\n",
      "Retreiving data for Sorrento, this is city number: 282.\n",
      "Retreiving data for Vila Franca Do Campo, this is city number: 283.\n",
      "Retreiving data for Poum, this is city number: 284.\n",
      "Retreiving data for Vila Velha, this is city number: 285.\n",
      "Retreiving data for Maragogi, this is city number: 286.\n",
      "Retreiving data for Gull Lake, this is city number: 287.\n",
      "Retreiving data for Cherskiy, this is city number: 288.\n",
      "Retreiving data for Kintinku, this is city number: 289.\n",
      "Retreiving data for Dunedin, this is city number: 290.\n",
      "Retreiving data for Lichinga, this is city number: 291.\n",
      "Retreiving data for Urengoy, this is city number: 292.\n",
      "Retreiving data for Cockburn Town, this is city number: 293.\n",
      "Retreiving data for Fairbanks, this is city number: 294.\n",
      "Retreiving data for Kangaba, this is city number: 295.\n",
      "Retreiving data for Salinopolis, this is city number: 296.\n",
      "Retreiving data for Sao Francisco, this is city number: 297.\n",
      "Retreiving data for Mahibadhoo, this is city number: 298.\n",
      "Retreiving data for Attawapiskat, this is city number: 299.\n",
      "Can't find information for attawapiskat... skipping.\n",
      "Retreiving data for Blackfoot, this is city number: 300.\n",
      "Retreiving data for Sampit, this is city number: 301.\n",
      "Retreiving data for Dolbeau, this is city number: 302.\n",
      "Can't find information for dolbeau... skipping.\n",
      "Retreiving data for Rincon De La Victoria, this is city number: 303.\n",
      "Retreiving data for Litoral Del San Juan, this is city number: 304.\n",
      "Can't find information for litoral del san juan... skipping.\n",
      "Retreiving data for Terbuny, this is city number: 305.\n",
      "Retreiving data for Copalillo, this is city number: 306.\n",
      "Retreiving data for Yialos, this is city number: 307.\n",
      "Can't find information for yialos... skipping.\n",
      "Retreiving data for Naze, this is city number: 308.\n",
      "Retreiving data for Babanusah, this is city number: 309.\n",
      "Can't find information for babanusah... skipping.\n",
      "Retreiving data for Eregli, this is city number: 310.\n",
      "Retreiving data for Ateli, this is city number: 311.\n",
      "Retreiving data for Tarudant, this is city number: 312.\n",
      "Can't find information for tarudant... skipping.\n",
      "Retreiving data for Faanui, this is city number: 313.\n",
      "Retreiving data for Onalaska, this is city number: 314.\n",
      "Retreiving data for Panama City, this is city number: 315.\n",
      "Retreiving data for Bengkulu, this is city number: 316.\n",
      "Retreiving data for Nabire, this is city number: 317.\n",
      "Retreiving data for Puerto Cabezas, this is city number: 318.\n",
      "Retreiving data for Hofn, this is city number: 319.\n",
      "Retreiving data for Le Port, this is city number: 320.\n",
      "Retreiving data for Bogorodskoye, this is city number: 321.\n",
      "Retreiving data for Avera, this is city number: 322.\n",
      "Retreiving data for Touros, this is city number: 323.\n",
      "Retreiving data for Chumikan, this is city number: 324.\n",
      "Retreiving data for Ostrovnoy, this is city number: 325.\n",
      "Retreiving data for Kenai, this is city number: 326.\n",
      "Retreiving data for Polunochnoye, this is city number: 327.\n",
      "Retreiving data for Livingston, this is city number: 328.\n",
      "Retreiving data for Ellsworth, this is city number: 329.\n",
      "Retreiving data for Necochea, this is city number: 330.\n",
      "Retreiving data for Antalaha, this is city number: 331.\n",
      "Retreiving data for Brightwater, this is city number: 332.\n",
      "Retreiving data for Castrillon, this is city number: 333.\n",
      "Retreiving data for Yulara, this is city number: 334.\n",
      "Retreiving data for Fortuna, this is city number: 335.\n",
      "Retreiving data for Never, this is city number: 336.\n",
      "Retreiving data for Zajecar, this is city number: 337.\n",
      "Retreiving data for Ampanihy, this is city number: 338.\n",
      "Retreiving data for Santa Lucia, this is city number: 339.\n",
      "Retreiving data for Vuktyl, this is city number: 340.\n",
      "Retreiving data for Jiayuguan, this is city number: 341.\n",
      "Retreiving data for Prado, this is city number: 342.\n",
      "Retreiving data for Saint-Pierre, this is city number: 343.\n",
      "Retreiving data for Price, this is city number: 344.\n",
      "Retreiving data for Coruripe, this is city number: 345.\n",
      "Retreiving data for Tobermory, this is city number: 346.\n",
      "Retreiving data for Parras, this is city number: 347.\n",
      "Can't find information for parras... skipping.\n",
      "Retreiving data for Sesheke, this is city number: 348.\n",
      "Retreiving data for Lata, this is city number: 349.\n",
      "Retreiving data for Cidreira, this is city number: 350.\n",
      "Retreiving data for Banfora, this is city number: 351.\n",
      "Retreiving data for Roald, this is city number: 352.\n",
      "Retreiving data for Ondorhaan, this is city number: 353.\n",
      "Can't find information for ondorhaan... skipping.\n",
      "Retreiving data for Puerto Narino, this is city number: 354.\n",
      "Retreiving data for Shimoda, this is city number: 355.\n",
      "Retreiving data for Chistogorskiy, this is city number: 356.\n",
      "Retreiving data for Cam Ranh, this is city number: 357.\n",
      "Retreiving data for Sechura, this is city number: 358.\n",
      "Retreiving data for Xining, this is city number: 359.\n",
      "Retreiving data for Pervomayskoye, this is city number: 360.\n",
      "Retreiving data for Grindavik, this is city number: 361.\n",
      "Retreiving data for El Tocuyo, this is city number: 362.\n",
      "Retreiving data for Peoria, this is city number: 363.\n",
      "Retreiving data for Kuroiso, this is city number: 364.\n",
      "Retreiving data for Brae, this is city number: 365.\n",
      "Retreiving data for Krasnoselkup, this is city number: 366.\n",
      "Retreiving data for Slanic-Moldova, this is city number: 367.\n",
      "Retreiving data for Januaria, this is city number: 368.\n",
      "Retreiving data for Ondangwa, this is city number: 369.\n",
      "Retreiving data for Aklavik, this is city number: 370.\n",
      "Retreiving data for Sumbe, this is city number: 371.\n",
      "Retreiving data for Karlshamn, this is city number: 372.\n",
      "Retreiving data for Vaitupu, this is city number: 373.\n",
      "Can't find information for vaitupu... skipping.\n",
      "Retreiving data for Alta Floresta, this is city number: 374.\n",
      "Retreiving data for Argelia, this is city number: 375.\n",
      "Retreiving data for Havoysund, this is city number: 376.\n",
      "Retreiving data for San Patricio, this is city number: 377.\n",
      "Retreiving data for Sitka, this is city number: 378.\n",
      "Retreiving data for Beisfjord, this is city number: 379.\n",
      "Retreiving data for Wajima, this is city number: 380.\n",
      "Retreiving data for Lolua, this is city number: 381.\n",
      "Can't find information for lolua... skipping.\n",
      "Retreiving data for Port Hedland, this is city number: 382.\n",
      "Retreiving data for Severo-Kurilsk, this is city number: 383.\n",
      "Retreiving data for Barra Do Garcas, this is city number: 384.\n",
      "Retreiving data for Peniche, this is city number: 385.\n",
      "Retreiving data for Sidney, this is city number: 386.\n",
      "Retreiving data for Sao Felipe, this is city number: 387.\n",
      "Retreiving data for Fevralsk, this is city number: 388.\n",
      "Can't find information for fevralsk... skipping.\n",
      "Retreiving data for Martapura, this is city number: 389.\n",
      "Retreiving data for Makakilo City, this is city number: 390.\n",
      "Retreiving data for Payo, this is city number: 391.\n",
      "Retreiving data for Nhulunbuy, this is city number: 392.\n",
      "Retreiving data for Mnogovershinnyy, this is city number: 393.\n",
      "Retreiving data for Iquitos, this is city number: 394.\n",
      "Retreiving data for Bud, this is city number: 395.\n",
      "Retreiving data for Helong, this is city number: 396.\n",
      "Retreiving data for Tecoanapa, this is city number: 397.\n",
      "Retreiving data for General Roca, this is city number: 398.\n",
      "Retreiving data for Nicoya, this is city number: 399.\n",
      "Retreiving data for Bintulu, this is city number: 400.\n",
      "Retreiving data for Abiy Adi, this is city number: 401.\n",
      "Can't find information for abiy adi... skipping.\n",
      "Retreiving data for Sembe, this is city number: 402.\n",
      "Retreiving data for Olafsvik, this is city number: 403.\n",
      "Retreiving data for Itoman, this is city number: 404.\n",
      "Retreiving data for Savannah Bight, this is city number: 405.\n",
      "Retreiving data for Muros, this is city number: 406.\n",
      "Retreiving data for Pangnirtung, this is city number: 407.\n",
      "Retreiving data for Malartic, this is city number: 408.\n",
      "Retreiving data for Kalawit, this is city number: 409.\n",
      "Retreiving data for Antofagasta, this is city number: 410.\n",
      "Retreiving data for Kahului, this is city number: 411.\n",
      "Retreiving data for Port-Gentil, this is city number: 412.\n"
     ]
    },
    {
     "name": "stdout",
     "output_type": "stream",
     "text": [
      "Retreiving data for Vestmannaeyjar, this is city number: 413.\n",
      "Retreiving data for Hualmay, this is city number: 414.\n",
      "Retreiving data for Sandy Bay, this is city number: 415.\n",
      "Retreiving data for Puntarenas, this is city number: 416.\n",
      "Retreiving data for Weyburn, this is city number: 417.\n",
      "Retreiving data for Garowe, this is city number: 418.\n",
      "Retreiving data for Canaries, this is city number: 419.\n",
      "Retreiving data for Hami, this is city number: 420.\n",
      "Retreiving data for Bayanday, this is city number: 421.\n",
      "Retreiving data for Petropavlovsk-Kamchatskiy, this is city number: 422.\n",
      "Retreiving data for Kimbe, this is city number: 423.\n",
      "Retreiving data for Ambon, this is city number: 424.\n",
      "Retreiving data for Luderitz, this is city number: 425.\n",
      "Retreiving data for Lyudinovo, this is city number: 426.\n",
      "Retreiving data for Utiroa, this is city number: 427.\n",
      "Can't find information for utiroa... skipping.\n",
      "Retreiving data for Isla Mujeres, this is city number: 428.\n",
      "Retreiving data for Paka, this is city number: 429.\n",
      "Retreiving data for Tome, this is city number: 430.\n",
      "Retreiving data for Makat, this is city number: 431.\n",
      "Retreiving data for Solovetskiy, this is city number: 432.\n",
      "Can't find information for solovetskiy... skipping.\n",
      "Retreiving data for Derzhavinsk, this is city number: 433.\n",
      "Retreiving data for Anadyr, this is city number: 434.\n",
      "Retreiving data for Camacha, this is city number: 435.\n",
      "Retreiving data for Sinop, this is city number: 436.\n",
      "Retreiving data for Codrington, this is city number: 437.\n",
      "Retreiving data for Cumpas, this is city number: 438.\n",
      "Retreiving data for Valparaiso, this is city number: 439.\n",
      "Retreiving data for Sola, this is city number: 440.\n",
      "Retreiving data for Tidore, this is city number: 441.\n",
      "Can't find information for tidore... skipping.\n",
      "Retreiving data for Tomatlan, this is city number: 442.\n",
      "Retreiving data for Sydney Mines, this is city number: 443.\n",
      "Retreiving data for Reconquista, this is city number: 444.\n",
      "Retreiving data for Umm Lajj, this is city number: 445.\n",
      "Retreiving data for Tabas, this is city number: 446.\n",
      "Retreiving data for Orlik, this is city number: 447.\n",
      "Retreiving data for Shingu, this is city number: 448.\n",
      "Retreiving data for Sibu, this is city number: 449.\n",
      "Retreiving data for Deming, this is city number: 450.\n",
      "Retreiving data for Gouyave, this is city number: 451.\n",
      "Retreiving data for Bambanglipuro, this is city number: 452.\n",
      "Retreiving data for Kawalu, this is city number: 453.\n",
      "Retreiving data for Saldanha, this is city number: 454.\n",
      "Retreiving data for Portland, this is city number: 455.\n",
      "Retreiving data for Caravelas, this is city number: 456.\n",
      "Retreiving data for Sharan, this is city number: 457.\n",
      "Retreiving data for Svetlaya, this is city number: 458.\n",
      "Retreiving data for Kovur, this is city number: 459.\n",
      "Retreiving data for Hamilton, this is city number: 460.\n",
      "Retreiving data for Shakhovskaya, this is city number: 461.\n",
      "Retreiving data for Manokwari, this is city number: 462.\n",
      "Retreiving data for Elvas, this is city number: 463.\n",
      "Retreiving data for Bonnyville, this is city number: 464.\n",
      "Retreiving data for Ponta Delgada, this is city number: 465.\n",
      "Retreiving data for Mende, this is city number: 466.\n",
      "Retreiving data for Basco, this is city number: 467.\n",
      "Retreiving data for Susacon, this is city number: 468.\n",
      "Retreiving data for Hovd, this is city number: 469.\n",
      "Retreiving data for Kahuta, this is city number: 470.\n",
      "Retreiving data for Nizhneyansk, this is city number: 471.\n",
      "Can't find information for nizhneyansk... skipping.\n",
      "Retreiving data for Gotsu, this is city number: 472.\n",
      "Retreiving data for Ambilobe, this is city number: 473.\n",
      "Retreiving data for Katsuura, this is city number: 474.\n",
      "Retreiving data for Provideniya, this is city number: 475.\n",
      "Retreiving data for Burica, this is city number: 476.\n",
      "Can't find information for burica... skipping.\n",
      "Retreiving data for Posse, this is city number: 477.\n",
      "Retreiving data for Olinda, this is city number: 478.\n",
      "Retreiving data for Bolshaya Chernigovka, this is city number: 479.\n",
      "Can't find information for bolshaya chernigovka... skipping.\n",
      "Retreiving data for Wattegama, this is city number: 480.\n",
      "Retreiving data for Amot, this is city number: 481.\n",
      "Retreiving data for Kota Belud, this is city number: 482.\n",
      "Retreiving data for Kununurra, this is city number: 483.\n",
      "Retreiving data for Seoul, this is city number: 484.\n",
      "Retreiving data for Alice Springs, this is city number: 485.\n",
      "Retreiving data for Halalo, this is city number: 486.\n",
      "Can't find information for halalo... skipping.\n",
      "Retreiving data for Changji, this is city number: 487.\n",
      "Retreiving data for San Quintin, this is city number: 488.\n",
      "Retreiving data for Bonavista, this is city number: 489.\n",
      "Retreiving data for Dunkirk, this is city number: 490.\n",
      "Retreiving data for Thunder Bay, this is city number: 491.\n",
      "Retreiving data for San Matias, this is city number: 492.\n",
      "Retreiving data for Asifabad, this is city number: 493.\n",
      "Retreiving data for Ouadda, this is city number: 494.\n",
      "Retreiving data for Mount Isa, this is city number: 495.\n",
      "Retreiving data for Cockburn Harbour, this is city number: 496.\n",
      "Can't find information for cockburn harbour... skipping.\n",
      "Retreiving data for Tubruq, this is city number: 497.\n",
      "Can't find information for tubruq... skipping.\n",
      "Retreiving data for Aksha, this is city number: 498.\n",
      "Retreiving data for Umba, this is city number: 499.\n",
      "Retreiving data for Soure, this is city number: 500.\n",
      "Retreiving data for Hemnesberget, this is city number: 501.\n",
      "Retreiving data for Paracuru, this is city number: 502.\n",
      "Retreiving data for Napasar, this is city number: 503.\n",
      "Retreiving data for Aljezur, this is city number: 504.\n",
      "Retreiving data for Statesboro, this is city number: 505.\n",
      "Retreiving data for Namibe, this is city number: 506.\n",
      "Retreiving data for Namtsy, this is city number: 507.\n",
      "Retreiving data for Dargaville, this is city number: 508.\n",
      "Retreiving data for Teya, this is city number: 509.\n",
      "Retreiving data for Djambala, this is city number: 510.\n",
      "Retreiving data for Douglas, this is city number: 511.\n",
      "Retreiving data for Lopatino, this is city number: 512.\n",
      "Retreiving data for Burnie, this is city number: 513.\n",
      "Retreiving data for Northam, this is city number: 514.\n",
      "Retreiving data for Raga, this is city number: 515.\n",
      "Retreiving data for La Grande, this is city number: 516.\n",
      "Retreiving data for Jalpa, this is city number: 517.\n",
      "Retreiving data for Atar, this is city number: 518.\n",
      "Retreiving data for Shitanjing, this is city number: 519.\n",
      "Retreiving data for Lillooet, this is city number: 520.\n",
      "Retreiving data for Santiago Del Estero, this is city number: 521.\n",
      "Retreiving data for Hukuntsi, this is city number: 522.\n",
      "Retreiving data for Hasaki, this is city number: 523.\n",
      "Retreiving data for Hay River, this is city number: 524.\n",
      "Retreiving data for Westport, this is city number: 525.\n",
      "Retreiving data for Lapua, this is city number: 526.\n",
      "Retreiving data for Biak, this is city number: 527.\n",
      "Retreiving data for Zhengjiatun, this is city number: 528.\n",
      "Retreiving data for Genhe, this is city number: 529.\n",
      "Retreiving data for Hauterive, this is city number: 530.\n",
      "Retreiving data for Les Cayes, this is city number: 531.\n",
      "Retreiving data for Athabasca, this is city number: 532.\n",
      "Retreiving data for Sao Joao Da Barra, this is city number: 533.\n",
      "Retreiving data for Harper, this is city number: 534.\n",
      "Retreiving data for Someru, this is city number: 535.\n",
      "Retreiving data for Thai Nguyen, this is city number: 536.\n",
      "Retreiving data for Asau, this is city number: 537.\n",
      "Retreiving data for Walvis Bay, this is city number: 538.\n",
      "Retreiving data for Sovetskaya Gavan, this is city number: 539.\n",
      "Retreiving data for Praia Da Vitoria, this is city number: 540.\n",
      "Retreiving data for Ulaanbaatar, this is city number: 541.\n",
      "Retreiving data for Coahuayana, this is city number: 542.\n",
      "Retreiving data for Sisimiut, this is city number: 543.\n",
      "Retreiving data for Lipari, this is city number: 544.\n",
      "Retreiving data for Batagay-Alyta, this is city number: 545.\n",
      "Retreiving data for Grand River South East, this is city number: 546.\n",
      "Can't find information for grand river south east... skipping.\n",
      "Retreiving data for San Cristobal, this is city number: 547.\n",
      "Retreiving data for Juneau, this is city number: 548.\n",
      "Retreiving data for Kieta, this is city number: 549.\n"
     ]
    },
    {
     "name": "stdout",
     "output_type": "stream",
     "text": [
      "Retreiving data for Margate, this is city number: 550.\n",
      "Retreiving data for Mingguang, this is city number: 551.\n",
      "Retreiving data for Rodrigues Alves, this is city number: 552.\n",
      "Retreiving data for Sainte-Agathe-Des-Monts, this is city number: 553.\n",
      "Retreiving data for Nazret, this is city number: 554.\n",
      "Retreiving data for Pacific Grove, this is city number: 555.\n",
      "Retreiving data for Popondetta, this is city number: 556.\n",
      "Retreiving data for Mahajanga, this is city number: 557.\n",
      "Retreiving data for Gravdal, this is city number: 558.\n",
      "Retreiving data for Blagoyevo, this is city number: 559.\n",
      "Retreiving data for Higuey, this is city number: 560.\n",
      "Can't find information for higuey... skipping.\n",
      "Retreiving data for Leningradskiy, this is city number: 561.\n",
      "Retreiving data for Darjiling, this is city number: 562.\n",
      "Retreiving data for Pati, this is city number: 563.\n",
      "Retreiving data for Nyurba, this is city number: 564.\n",
      "Retreiving data for Adrar, this is city number: 565.\n",
      "Retreiving data for Shchelyayur, this is city number: 566.\n",
      "Can't find information for shchelyayur... skipping.\n",
      "Retreiving data for Lakes Entrance, this is city number: 567.\n",
      "Retreiving data for Bulaevo, this is city number: 568.\n",
      "Retreiving data for Sao Gabriel Da Cachoeira, this is city number: 569.\n",
      "Retreiving data for Shellbrook, this is city number: 570.\n",
      "Retreiving data for Brenes, this is city number: 571.\n",
      "Retreiving data for Kloulklubed, this is city number: 572.\n",
      "Retreiving data for Sungaipenuh, this is city number: 573.\n",
      "Retreiving data for Dunmore Town, this is city number: 574.\n",
      "Retreiving data for Lago Da Pedra, this is city number: 575.\n",
      "Retreiving data for Ahipara, this is city number: 576.\n",
      "Retreiving data for Sataua, this is city number: 577.\n",
      "Can't find information for sataua... skipping.\n",
      "Retreiving data for Gemena, this is city number: 578.\n",
      "Retreiving data for Bangkalan, this is city number: 579.\n",
      "Retreiving data for Ji-Parana, this is city number: 580.\n",
      "Can't find information for ji-parana... skipping.\n",
      "Retreiving data for Ballina, this is city number: 581.\n",
      "Retreiving data for Tapes, this is city number: 582.\n",
      "Retreiving data for Stornoway, this is city number: 583.\n",
      "Retreiving data for Heide, this is city number: 584.\n",
      "Retreiving data for Mareeba, this is city number: 585.\n",
      "Retreiving data for Kavaratti, this is city number: 586.\n",
      "Retreiving data for Guilin, this is city number: 587.\n",
      "Retreiving data for Crab Hill, this is city number: 588.\n",
      "Can't find information for crab hill... skipping.\n",
      "Retreiving data for Beian, this is city number: 589.\n",
      "Retreiving data for Berbera, this is city number: 590.\n",
      "Retreiving data for Puerto Leguizamo, this is city number: 591.\n",
      "Retreiving data for Ishigaki, this is city number: 592.\n",
      "Retreiving data for Talcahuano, this is city number: 593.\n",
      "Retreiving data for Bambari, this is city number: 594.\n",
      "Retreiving data for Pasian, this is city number: 595.\n",
      "Retreiving data for Meadow Lake, this is city number: 596.\n",
      "Retreiving data for La Palma, this is city number: 597.\n",
      "Retreiving data for Gornopravdinsk, this is city number: 598.\n",
      "Retreiving data for Trinidad, this is city number: 599.\n",
      "Retreiving data for Motygino, this is city number: 600.\n",
      "Retreiving data for Tumsar, this is city number: 601.\n",
      "Retreiving data for Karamea, this is city number: 602.\n",
      "Can't find information for karamea... skipping.\n",
      "Retreiving data for Qianan, this is city number: 603.\n",
      "Retreiving data for Vigrestad, this is city number: 604.\n",
      "Retreiving data for Nuuk, this is city number: 605.\n",
      "Retreiving data for Ola, this is city number: 606.\n",
      "Retreiving data for Nelson Bay, this is city number: 607.\n",
      "Retreiving data for Laguna, this is city number: 608.\n",
      "Retreiving data for Careiro Da Varzea, this is city number: 609.\n",
      "Retreiving data for Iranshahr, this is city number: 610.\n",
      "Retreiving data for Agadez, this is city number: 611.\n",
      "Retreiving data for Chicama, this is city number: 612.\n",
      "Retreiving data for Karkaralinsk, this is city number: 613.\n",
      "Can't find information for karkaralinsk... skipping.\n",
      "Retreiving data for Morondava, this is city number: 614.\n",
      "Retreiving data for Belmonte, this is city number: 615.\n",
      "Retreiving data for Kamenka, this is city number: 616.\n",
      "Retreiving data for Uyuni, this is city number: 617.\n",
      "Retreiving data for Shakawe, this is city number: 618.\n",
      "Retreiving data for Senno, this is city number: 619.\n",
      "Retreiving data for Bandar-E Lengeh, this is city number: 620.\n",
      "Retreiving data for Kazalinsk, this is city number: 621.\n",
      "Can't find information for kazalinsk... skipping.\n",
      "Retreiving data for Shivrajpur, this is city number: 622.\n",
      "Retreiving data for Chapais, this is city number: 623.\n",
      "Retreiving data for Montlucon, this is city number: 624.\n",
      "Retreiving data for Vicuna, this is city number: 625.\n",
      "Retreiving data for Coquimbo, this is city number: 626.\n",
      "Retreiving data for San Andres, this is city number: 627.\n",
      "Retreiving data for Sattahip, this is city number: 628.\n",
      "Retreiving data for Poya, this is city number: 629.\n",
      "Retreiving data for Huamachuco, this is city number: 630.\n",
      "Retreiving data for Tocopilla, this is city number: 631.\n",
      "Retreiving data for Hun, this is city number: 632.\n",
      "Retreiving data for Qingdao, this is city number: 633.\n",
      "Retreiving data for Nanakuli, this is city number: 634.\n",
      "Retreiving data for Marzuq, this is city number: 635.\n",
      "Retreiving data for Aloleng, this is city number: 636.\n",
      "Retreiving data for Kuching, this is city number: 637.\n",
      "Retreiving data for Chebarkul, this is city number: 638.\n",
      "Retreiving data for Tabiauea, this is city number: 639.\n",
      "Can't find information for tabiauea... skipping.\n",
      "Retreiving data for Villazon, this is city number: 640.\n",
      "Retreiving data for Listowel, this is city number: 641.\n",
      "Retreiving data for Araguari, this is city number: 642.\n",
      "Retreiving data for San Juan, this is city number: 643.\n",
      "search done\n"
     ]
    }
   ],
   "source": [
    "print('starting search... (this may take a while)')\n",
    "# keeps count of the city\n",
    "count = 1\n",
    "\n",
    "base = \"https://api.openweathermap.org/data/2.5/weather?q=\"\n",
    "\n",
    "for index,row in city_info.iterrows():\n",
    "    \n",
    "    # store lat and long values\n",
    "    city = row['closest city']\n",
    "    long = '&lon='+str(row['long'])\n",
    "    lat = 'lat='+str(row['lat'])\n",
    "    \n",
    "    # create the url\n",
    "    new_url = base+city+weather_api_key+units\n",
    "    # read the data of the city from the API\n",
    "    data =requests.get(new_url).json()\n",
    "    \n",
    "    # print log of city and which number it is\n",
    "    print(f\"Retreiving data for {city.title()}, this is city number: {count}.\")\n",
    "    count+= 1\n",
    "\n",
    "    try:\n",
    "        city_info.loc[index,\"temp\"]  = data[\"main\"][\"temp\"]\n",
    "        city_info.loc[index,\"humidity\"]  = data[\"main\"][\"humidity\"]\n",
    "        city_info.loc[index,\"cloudiness\"] = data['clouds']['all']\n",
    "        city_info.loc[index,\"wind speed\"] = data['wind']['speed']\n",
    "    except (KeyError, IndexError):\n",
    "        city_info = city_info.drop(index)\n",
    "        print(f\"Can't find information for {city}... skipping.\") \n",
    "        \n",
    "    \n",
    "print('search done')"
   ]
  },
  {
   "cell_type": "code",
   "execution_count": 30,
   "id": "7ead4021",
   "metadata": {},
   "outputs": [
    {
     "data": {
      "text/plain": [
       "(594, 8)"
      ]
     },
     "execution_count": 30,
     "metadata": {},
     "output_type": "execute_result"
    }
   ],
   "source": [
    "city_info.shape"
   ]
  },
  {
   "cell_type": "code",
   "execution_count": 16,
   "id": "8679d8d6",
   "metadata": {},
   "outputs": [],
   "source": [
    "# save data to csv\n",
    "city_info.to_csv(\"retrieved_data.csv\",index=False)"
   ]
  },
  {
   "cell_type": "markdown",
   "id": "ee9d7dfc",
   "metadata": {},
   "source": [
    "### Plot Lat"
   ]
  },
  {
   "cell_type": "code",
   "execution_count": 17,
   "id": "e9c5a551",
   "metadata": {
    "scrolled": false
   },
   "outputs": [
    {
     "data": {
      "image/png": "[encoded data removed]",
      "text/plain": [
       "<Figure size 432x288 with 1 Axes>"
      ]
     },
     "metadata": {
      "needs_background": "light"
     },
     "output_type": "display_data"
    }
   ],
   "source": [
    "plt.scatter(city_info['lat'],city_info['temp'])\n",
    "plt.xlabel('Latitude')\n",
    "plt.ylabel('Temperature (F)')\n",
    "plt.title('Latitude Vs Temperature (F)')\n",
    "plt.show()"
   ]
  },
  {
   "cell_type": "markdown",
   "id": "0210446b",
   "metadata": {},
   "source": [
    "Here we plot the latitude values against the temperature in Farenheit. This shows us the how the temperature changes depending on the latitude value."
   ]
  },
  {
   "cell_type": "code",
   "execution_count": 20,
   "id": "838db4a3",
   "metadata": {
    "scrolled": true
   },
   "outputs": [
    {
     "data": {
      "image/png": "[encoded data removed]",
      "text/plain": [
       "<Figure size 432x288 with 1 Axes>"
      ]
     },
     "metadata": {
      "needs_background": "light"
     },
     "output_type": "display_data"
    }
   ],
   "source": [
    "plt.scatter(city_info['lat'],city_info['humidity'])\n",
    "plt.xlabel('Humidity (%)')\n",
    "plt.ylabel('Latitude')\n",
    "plt.title(' Latitude Vs Humidity (%)')\n",
    "plt.show()"
   ]
  },
  {
   "cell_type": "markdown",
   "id": "2dc43638",
   "metadata": {},
   "source": [
    "Here we plot the latitude values against the precentage of humidity. This shows us the how the humidity changes depending on the latitude value."
   ]
  },
  {
   "cell_type": "markdown",
   "id": "4db35dbd",
   "metadata": {},
   "source": [
    "From the graph above, we can see that the higher humidity values are around latitude values 0, -75 and 75. We can also see that we have lower humidty values around latitude values -25 and 25, where as the other latitude values don't really have any humidity values below 60."
   ]
  },
  {
   "cell_type": "code",
   "execution_count": 15,
   "id": "38dc5db1",
   "metadata": {},
   "outputs": [
    {
     "data": {
      "image/png": "[encoded data removed]",
      "text/plain": [
       "<Figure size 432x288 with 1 Axes>"
      ]
     },
     "metadata": {
      "needs_background": "light"
     },
     "output_type": "display_data"
    }
   ],
   "source": [
    "plt.scatter(city_info['humidity'],city_info['lat'])\n",
    "plt.xlabel('Humidity')\n",
    "plt.ylabel('Latitude')\n",
    "plt.title('Humidity (%) Vs Latitude')\n",
    "plt.show()"
   ]
  },
  {
   "cell_type": "code",
   "execution_count": 21,
   "id": "1afb34af",
   "metadata": {},
   "outputs": [
    {
     "data": {
      "image/png": "[encoded data removed]",
      "text/plain": [
       "<Figure size 432x288 with 1 Axes>"
      ]
     },
     "metadata": {
      "needs_background": "light"
     },
     "output_type": "display_data"
    }
   ],
   "source": [
    "plt.scatter(city_info['lat'],city_info['cloudiness'])\n",
    "plt.xlabel('Latitude')\n",
    "plt.ylabel('Cloudiness (%)')\n",
    "plt.title('Latitude Vs  Cloudiness(%)')\n",
    "plt.savefig('Latitude Vs Cloudiness(%)',facecolor='white', transparent=False)\n",
    "plt.show()"
   ]
  },
  {
   "cell_type": "markdown",
   "id": "c6c218d0",
   "metadata": {},
   "source": [
    "Here we plot the latitude values against the precentage of cloudiness. This shows us the how the cloudiness changes depending on the latitude value."
   ]
  },
  {
   "cell_type": "markdown",
   "id": "b0554f70",
   "metadata": {},
   "source": [
    "We can see that the closer the latitude value is to 0, the more data points there are closer to cloudiness 100."
   ]
  },
  {
   "cell_type": "code",
   "execution_count": 22,
   "id": "d96442f3",
   "metadata": {},
   "outputs": [
    {
     "data": {
      "image/png": "[encoded data removed]",
      "text/plain": [
       "<Figure size 432x288 with 1 Axes>"
      ]
     },
     "metadata": {
      "needs_background": "light"
     },
     "output_type": "display_data"
    }
   ],
   "source": [
    "plt.scatter(city_info['lat'],city_info['wind speed'])\n",
    "plt.xlabel('Latitude')\n",
    "plt.ylabel('Wind Speed (mph)')\n",
    "plt.title('Latitude Vs Wind Speed (mph)')\n",
    "plt.savefig('Latitude Vs Wind Speed (mph)',facecolor='white', transparent=False)\n",
    "plt.show()"
   ]
  },
  {
   "cell_type": "markdown",
   "id": "c3f1457c",
   "metadata": {},
   "source": [
    "Here we plot the latitude values against the precentage of Wind Speed. This shows us the how the Wind Speed changes depending on the latitude value."
   ]
  },
  {
   "cell_type": "markdown",
   "id": "5c0ac3f6",
   "metadata": {},
   "source": [
    "We can see that as the latitude approaches 0, the wind speends also approach 0."
   ]
  },
  {
   "cell_type": "markdown",
   "id": "a577b792",
   "metadata": {},
   "source": [
    "### Linear Regression"
   ]
  },
  {
   "cell_type": "code",
   "execution_count": 23,
   "id": "a5666b3b",
   "metadata": {},
   "outputs": [],
   "source": [
    "# find all countries in northen hempisphere\n",
    "northern_hemp = city_info[city_info['lat'] >= 0]\n",
    "\n",
    "# find all countries in southern hempisphere\n",
    "southern_hemp = city_info[city_info['lat'] < 0]"
   ]
  },
  {
   "cell_type": "markdown",
   "id": "9a911cd8",
   "metadata": {},
   "source": [
    "#### Temperature (F) Vs Latitude\n"
   ]
  },
  {
   "cell_type": "markdown",
   "id": "429c6a84",
   "metadata": {},
   "source": [
    "#### Northen Hemisphere"
   ]
  },
  {
   "cell_type": "code",
   "execution_count": 61,
   "id": "8cf92607",
   "metadata": {},
   "outputs": [
    {
     "name": "stdout",
     "output_type": "stream",
     "text": [
      "The correlation value is -0.82\n"
     ]
    }
   ],
   "source": [
    "# store x and y values\n",
    "y_values = northern_hemp['temp'].astype(float)\n",
    "x_values = northern_hemp['lat'].astype(float)\n",
    "# y_values\n",
    "# store linear regression values\n",
    "slope, intercept, r, p_value, std_error = stats.linregress([x_values],[y_values])\n",
    "\n",
    "# equation\n",
    "equation = f'temp = {round(slope,2)} * latitude + {round(intercept,2)}'\n",
    "\n",
    "# estimated values\n",
    "lat_values = x_values\n",
    "est_temp = slope*lat_values + intercept\n",
    "print(f'The correlation value is {round(r,2)}')"
   ]
  },
  {
   "cell_type": "code",
   "execution_count": 64,
   "id": "d9afa205",
   "metadata": {},
   "outputs": [
    {
     "data": {
      "image/png": "[encoded data removed]",
      "text/plain": [
       "<Figure size 432x288 with 1 Axes>"
      ]
     },
     "metadata": {
      "needs_background": "light"
     },
     "output_type": "display_data"
    }
   ],
   "source": [
    "plt.scatter(x_values,y_values)\n",
    "plt.xlabel('Latitude')\n",
    "plt.ylabel('Temperature (F)')\n",
    "plt.title('Latitude Vs Temperature (F)')\n",
    "plt.annotate(equation,(5,20))\n",
    "plt.plot(lat_values,est_temp,color = 'black')\n",
    "plt.savefig('Latitude Vs Temp (Northen)',facecolor='white', transparent=False)\n",
    "plt.show()"
   ]
  },
  {
   "cell_type": "markdown",
   "id": "4bc5ace9",
   "metadata": {},
   "source": [
    "#### Southern Hemipshere"
   ]
  },
  {
   "cell_type": "code",
   "execution_count": 62,
   "id": "bce926ea",
   "metadata": {},
   "outputs": [
    {
     "name": "stdout",
     "output_type": "stream",
     "text": [
      "The correlation value is 0.56\n"
     ]
    }
   ],
   "source": [
    "# store x and y values\n",
    "y_values = southern_hemp['temp'].astype(float)\n",
    "x_values = southern_hemp['lat'].astype(float)\n",
    "\n",
    "# store linear regression values\n",
    "slope, intercept, r, p_value, std_error = stats.linregress(x_values,y_values)\n",
    "\n",
    "# equation\n",
    "equation = f'temp = {round(slope,2)} * latitude + {round(intercept,2)}'\n",
    "\n",
    "# estimated values\n",
    "lat_values = x_values\n",
    "est_temp = slope*lat_values + intercept\n",
    "print(f'The correlation value is {round(r,2)}')"
   ]
  },
  {
   "cell_type": "code",
   "execution_count": 63,
   "id": "cbd38670",
   "metadata": {},
   "outputs": [
    {
     "data": {
      "image/png": "[encoded data removed]",
      "text/plain": [
       "<Figure size 432x288 with 1 Axes>"
      ]
     },
     "metadata": {
      "needs_background": "light"
     },
     "output_type": "display_data"
    }
   ],
   "source": [
    "plt.scatter(x_values,y_values)\n",
    "plt.xlabel('Latitude')\n",
    "plt.ylabel('Temperature (F)')\n",
    "plt.title('Latitude Vs Temperature (F)')\n",
    "plt.annotate(equation,(-45,-20))\n",
    "plt.plot(lat_values,est_temp,color = 'black')\n",
    "plt.savefig('Latitude Vs Temp (Southern)',facecolor='white', transparent=False)\n",
    "plt.show()"
   ]
  },
  {
   "cell_type": "markdown",
   "id": "82fb775b",
   "metadata": {},
   "source": [
    "We can see that as the latitutde values approach 0. The temperature increases, but the further away the values are from 0, the lower the temperature is. The equator is located at latitutde value = 0. So from the graph we can see that as the you get closer to the equator, the higher the temperature is. The correlation is high for both hemispheres, suggesting that  temperature is related to latitude."
   ]
  },
  {
   "cell_type": "markdown",
   "id": "2fbe79fe",
   "metadata": {},
   "source": [
    "#### Latitude Vs Humidity"
   ]
  },
  {
   "cell_type": "markdown",
   "id": "927e2267",
   "metadata": {},
   "source": [
    "#### Northen Hempisphere"
   ]
  },
  {
   "cell_type": "code",
   "execution_count": 66,
   "id": "ac2810ec",
   "metadata": {},
   "outputs": [
    {
     "name": "stdout",
     "output_type": "stream",
     "text": [
      "The correlation value is -0.01\n"
     ]
    }
   ],
   "source": [
    "# store x and y values\n",
    "y_values = northern_hemp['lat'].astype(float)\n",
    "x_values = northern_hemp['humidity'].astype(float)\n",
    "\n",
    "# store linear regression values\n",
    "slope, intercept, r, p_value, std_error = stats.linregress(x_values,y_values)\n",
    "\n",
    "# equation\n",
    "equation = f'humidity = {round(slope,2)} * latitude + {round(intercept,2)}'\n",
    "\n",
    "# estimated values\n",
    "lat_values = x_values\n",
    "est_hum = slope*lat_values + intercept\n",
    "print(f'The correlation value is {round(r,2)}')"
   ]
  },
  {
   "cell_type": "code",
   "execution_count": 67,
   "id": "1133976c",
   "metadata": {},
   "outputs": [
    {
     "data": {
      "image/png": "[encoded data removed]",
      "text/plain": [
       "<Figure size 432x288 with 1 Axes>"
      ]
     },
     "metadata": {
      "needs_background": "light"
     },
     "output_type": "display_data"
    }
   ],
   "source": [
    "plt.scatter(y_values,x_values)\n",
    "plt.xlabel('Latitude')\n",
    "plt.ylabel('Humidity (%)')\n",
    "plt.title('Latitude Vs Humidity (%)')\n",
    "plt.annotate(equation,(43,10))\n",
    "plt.plot(lat_values,est_hum,color = 'black')\n",
    "plt.savefig('Latitude Vs Humidty (Northern)',facecolor='white', transparent=False)\n",
    "plt.show()"
   ]
  },
  {
   "cell_type": "markdown",
   "id": "1de05ce9",
   "metadata": {},
   "source": [
    "#### Southern Hempisphere"
   ]
  },
  {
   "cell_type": "code",
   "execution_count": 68,
   "id": "9bcd4cb0",
   "metadata": {},
   "outputs": [
    {
     "name": "stdout",
     "output_type": "stream",
     "text": [
      "The correlation value is -0.05\n"
     ]
    }
   ],
   "source": [
    "# store x and y values\n",
    "x_values = southern_hemp['lat'].astype(float)\n",
    "y_values = southern_hemp['humidity'].astype(float)\n",
    "\n",
    "# store linear regression values\n",
    "slope, intercept, r, p_value, std_error = stats.linregress(x_values,y_values)\n",
    "\n",
    "# equation\n",
    "equation = f'humidity = {round(slope,2)} * latitude + {round(intercept,2)}'\n",
    "\n",
    "# estimated values\n",
    "lat_values = x_values\n",
    "est_hum = slope*lat_values + intercept\n",
    "print(f'The correlation value is {round(r,2)}')"
   ]
  },
  {
   "cell_type": "code",
   "execution_count": 69,
   "id": "b312ddd9",
   "metadata": {},
   "outputs": [
    {
     "data": {
      "image/png": "[encoded data removed]",
      "text/plain": [
       "<Figure size 432x288 with 1 Axes>"
      ]
     },
     "metadata": {
      "needs_background": "light"
     },
     "output_type": "display_data"
    }
   ],
   "source": [
    "plt.scatter(x_values,y_values)\n",
    "plt.ylabel('Humidity (%)')\n",
    "plt.xlabel('Latitude')\n",
    "plt.title('Latitude Vs Humidity (%) ')\n",
    "plt.annotate(equation,(10,-65))\n",
    "plt.plot(lat_values,est_hum,color = 'black')\n",
    "plt.savefig('Latitude Vs Humidty (Southern)',facecolor='white', transparent=False)\n",
    "plt.show()"
   ]
  },
  {
   "cell_type": "markdown",
   "id": "a1ecc148",
   "metadata": {},
   "source": [
    "The regression models for latitude vs humidity suggest that the further away from latitude 0, the higher the humidity percentage is. The correlation values are low (-001 and -0.05), so we can say that humidity isnt related to latitude.\n",
    "\n",
    "We can see that in the northen hemisphere there seems to be more data values with higher humidty percennatge. This could also be because the northern hempishpere has more data points (just because there are more cities in the northern hempisphere, it is more likely that a city is within the northern hemisphere)."
   ]
  },
  {
   "cell_type": "markdown",
   "id": "a192c8b6",
   "metadata": {},
   "source": [
    "#### Latitude Vs Cloudiness"
   ]
  },
  {
   "cell_type": "markdown",
   "id": "65ed31b3",
   "metadata": {},
   "source": [
    "#### Northren Hempisphere"
   ]
  },
  {
   "cell_type": "code",
   "execution_count": 71,
   "id": "080d1985",
   "metadata": {},
   "outputs": [
    {
     "name": "stdout",
     "output_type": "stream",
     "text": [
      "The correlation value is 0.15\n"
     ]
    }
   ],
   "source": [
    "# store x and y values\n",
    "x_values = northern_hemp['lat'].astype(float)\n",
    "y_values = northern_hemp['cloudiness'].astype(float)\n",
    "\n",
    "# store linear regression values\n",
    "slope, intercept, r, p_value, std_error = stats.linregress(x_values,y_values)\n",
    "\n",
    "# equation\n",
    "equation = f'cloudiness = {round(slope,2)} * latitude + {round(intercept,2)}'\n",
    "\n",
    "# estimated values\n",
    "lat_values = x_values\n",
    "est_hum = slope*lat_values + intercept\n",
    "print(f'The correlation value is {round(r,2)}')"
   ]
  },
  {
   "cell_type": "code",
   "execution_count": 72,
   "id": "c6fff6e5",
   "metadata": {},
   "outputs": [
    {
     "data": {
      "image/png": "[encoded data removed]",
      "text/plain": [
       "<Figure size 432x288 with 1 Axes>"
      ]
     },
     "metadata": {
      "needs_background": "light"
     },
     "output_type": "display_data"
    }
   ],
   "source": [
    "plt.scatter(x_values,y_values)\n",
    "plt.ylabel('cloudiness (%)')\n",
    "plt.xlabel('Latitude')\n",
    "plt.title('Latitude Vs cloudiness (%) ')\n",
    "plt.annotate(equation,(10,-65))\n",
    "plt.plot(lat_values,est_hum,color = 'black')\n",
    "plt.savefig('Latitude Vs cloudiness (Northern)',facecolor='white', transparent=False)\n",
    "plt.show()\n"
   ]
  },
  {
   "cell_type": "markdown",
   "id": "dfc1dbb6",
   "metadata": {},
   "source": [
    "#### Southern Hempisphere"
   ]
  },
  {
   "cell_type": "code",
   "execution_count": 73,
   "id": "42ffe93d",
   "metadata": {},
   "outputs": [
    {
     "name": "stdout",
     "output_type": "stream",
     "text": [
      "The correlation value is 0.05\n"
     ]
    }
   ],
   "source": [
    "# store x and y values\n",
    "x_values = southern_hemp['lat'].astype(float)\n",
    "y_values = southern_hemp['cloudiness'].astype(float)\n",
    "\n",
    "# store linear regression values\n",
    "slope, intercept, r, p_value, std_error = stats.linregress(x_values,y_values)\n",
    "\n",
    "# equation\n",
    "equation = f'cloudiness = {round(slope,2)} * latitude + {round(intercept,2)}'\n",
    "\n",
    "# estimated values\n",
    "lat_values = x_values\n",
    "est_hum = slope*lat_values + intercept\n",
    "print(f'The correlation value is {round(r,2)}')"
   ]
  },
  {
   "cell_type": "code",
   "execution_count": 74,
   "id": "7ca9bf1f",
   "metadata": {},
   "outputs": [
    {
     "data": {
      "image/png": "[encoded data removed]",
      "text/plain": [
       "<Figure size 432x288 with 1 Axes>"
      ]
     },
     "metadata": {
      "needs_background": "light"
     },
     "output_type": "display_data"
    }
   ],
   "source": [
    "plt.scatter(x_values,y_values)\n",
    "plt.ylabel('cloudiness (%)')\n",
    "plt.xlabel('Latitude')\n",
    "plt.title('Latitude Vs cloudiness (%) ')\n",
    "plt.annotate(equation,(10,-65))\n",
    "plt.plot(lat_values,est_hum,color = 'black')\n",
    "plt.savefig('Latitude Vs cloudiness (Southern)',facecolor='white', transparent=False)\n",
    "plt.show()"
   ]
  },
  {
   "cell_type": "markdown",
   "id": "42c1259a",
   "metadata": {},
   "source": [
    " From the grpah in the that the futher away from latitude 0 we get, the more cloudy it is. the correlation  values are low (0.05 and 0.15), so we can say that cloudiness is not related to latitude. In the northern hemisphere the values appear to have to main bunches."
   ]
  },
  {
   "cell_type": "code",
   "execution_count": null,
   "id": "aad540f2",
   "metadata": {},
   "outputs": [],
   "source": []
  }
 ],
 "metadata": {
  "kernelspec": {
   "display_name": "Python 3",
   "language": "python",
   "name": "python3"
  },
  "language_info": {
   "codemirror_mode": {
    "name": "ipython",
    "version": 3
   },
   "file_extension": ".py",
   "mimetype": "text/x-python",
   "name": "python",
   "nbconvert_exporter": "python",
   "pygments_lexer": "ipython3",
   "version": "3.8.2"
  }
 },
 "nbformat": 4,
 "nbformat_minor": 5
}
