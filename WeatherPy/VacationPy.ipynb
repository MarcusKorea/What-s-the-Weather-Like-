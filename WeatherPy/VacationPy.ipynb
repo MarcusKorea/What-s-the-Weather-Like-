{
 "cells": [
  {
   "cell_type": "code",
   "execution_count": 1,
   "id": "36823763",
   "metadata": {},
   "outputs": [],
   "source": [
    "# conda install -c conda-forge gmaps"
   ]
  },
  {
   "cell_type": "code",
   "execution_count": 22,
   "id": "81cf5ec6",
   "metadata": {},
   "outputs": [],
   "source": [
    "# import packages\n",
    "import gmaps\n",
    "import pandas as pd\n",
    "from api_keys import g_key\n",
    "import requests\n",
    "import json\n",
    "from pprint import pprint"
   ]
  },
  {
   "cell_type": "code",
   "execution_count": 23,
   "id": "fa1bd0ca",
   "metadata": {},
   "outputs": [],
   "source": [
    "# api_key\n",
    "gmaps.configure(api_key=g_key)"
   ]
  },
  {
   "cell_type": "code",
   "execution_count": 24,
   "id": "df62a507",
   "metadata": {},
   "outputs": [
    {
     "data": {
      "text/html": [
       "<div>\n",
       "<style scoped>\n",
       "    .dataframe tbody tr th:only-of-type {\n",
       "        vertical-align: middle;\n",
       "    }\n",
       "\n",
       "    .dataframe tbody tr th {\n",
       "        vertical-align: top;\n",
       "    }\n",
       "\n",
       "    .dataframe thead th {\n",
       "        text-align: right;\n",
       "    }\n",
       "</style>\n",
       "<table border=\"1\" class=\"dataframe\">\n",
       "  <thead>\n",
       "    <tr style=\"text-align: right;\">\n",
       "      <th></th>\n",
       "      <th>lat</th>\n",
       "      <th>long</th>\n",
       "      <th>closest city</th>\n",
       "      <th>country code</th>\n",
       "      <th>temp</th>\n",
       "      <th>humidity</th>\n",
       "      <th>cloudiness</th>\n",
       "      <th>wind speed</th>\n",
       "    </tr>\n",
       "  </thead>\n",
       "  <tbody>\n",
       "    <tr>\n",
       "      <th>0</th>\n",
       "      <td>8.918051</td>\n",
       "      <td>84.955594</td>\n",
       "      <td>batticaloa</td>\n",
       "      <td>lk</td>\n",
       "      <td>84.29</td>\n",
       "      <td>71</td>\n",
       "      <td>54</td>\n",
       "      <td>3.83</td>\n",
       "    </tr>\n",
       "    <tr>\n",
       "      <th>1</th>\n",
       "      <td>-39.339486</td>\n",
       "      <td>26.073336</td>\n",
       "      <td>port elizabeth</td>\n",
       "      <td>za</td>\n",
       "      <td>55.69</td>\n",
       "      <td>82</td>\n",
       "      <td>0</td>\n",
       "      <td>10.36</td>\n",
       "    </tr>\n",
       "    <tr>\n",
       "      <th>2</th>\n",
       "      <td>-76.087878</td>\n",
       "      <td>157.534549</td>\n",
       "      <td>bluff</td>\n",
       "      <td>nz</td>\n",
       "      <td>54.73</td>\n",
       "      <td>68</td>\n",
       "      <td>98</td>\n",
       "      <td>14.43</td>\n",
       "    </tr>\n",
       "    <tr>\n",
       "      <th>3</th>\n",
       "      <td>-4.894565</td>\n",
       "      <td>5.401483</td>\n",
       "      <td>omboue</td>\n",
       "      <td>ga</td>\n",
       "      <td>74.79</td>\n",
       "      <td>85</td>\n",
       "      <td>100</td>\n",
       "      <td>3.36</td>\n",
       "    </tr>\n",
       "    <tr>\n",
       "      <th>4</th>\n",
       "      <td>-81.266040</td>\n",
       "      <td>25.806062</td>\n",
       "      <td>bredasdorp</td>\n",
       "      <td>za</td>\n",
       "      <td>51.12</td>\n",
       "      <td>82</td>\n",
       "      <td>0</td>\n",
       "      <td>5.75</td>\n",
       "    </tr>\n",
       "  </tbody>\n",
       "</table>\n",
       "</div>"
      ],
      "text/plain": [
       "         lat        long    closest city country code   temp  humidity  \\\n",
       "0   8.918051   84.955594      batticaloa           lk  84.29        71   \n",
       "1 -39.339486   26.073336  port elizabeth           za  55.69        82   \n",
       "2 -76.087878  157.534549           bluff           nz  54.73        68   \n",
       "3  -4.894565    5.401483          omboue           ga  74.79        85   \n",
       "4 -81.266040   25.806062      bredasdorp           za  51.12        82   \n",
       "\n",
       "   cloudiness  wind speed  \n",
       "0          54        3.83  \n",
       "1           0       10.36  \n",
       "2          98       14.43  \n",
       "3         100        3.36  \n",
       "4           0        5.75  "
      ]
     },
     "execution_count": 24,
     "metadata": {},
     "output_type": "execute_result"
    }
   ],
   "source": [
    "# read data\n",
    "data = pd.read_csv(\"retrieved_data.csv\")\n",
    "\n",
    "# store lat long in variable\n",
    "coordinates = data[[\"lat\",\"long\"]]\n",
    "\n",
    "# humidity\n",
    "humidity = data[\"humidity\"].astype(float)\n",
    "data.head()"
   ]
  },
  {
   "cell_type": "code",
   "execution_count": 25,
   "id": "610f35f6",
   "metadata": {},
   "outputs": [
    {
     "data": {
      "application/vnd.jupyter.widget-view+json": {
       "model_id": "10522c5036464e9fa54f994d583526db",
       "version_major": 2,
       "version_minor": 0
      },
      "text/plain": [
       "Figure(layout=FigureLayout(height='420px'))"
      ]
     },
     "metadata": {},
     "output_type": "display_data"
    }
   ],
   "source": [
    "# map\n",
    "figure = gmaps.figure()\n",
    "heat_layer = gmaps.heatmap_layer(coordinates, weights = humidity,\n",
    "                                 dissipating=False, max_intensity=1,\n",
    "                                 point_radius= 1)\n",
    "\n",
    "# Add layer\n",
    "figure.add_layer(heat_layer)\n",
    "figure"
   ]
  },
  {
   "cell_type": "markdown",
   "id": "cc371614",
   "metadata": {},
   "source": [
    "### Ideal weather conditions"
   ]
  },
  {
   "cell_type": "code",
   "execution_count": 26,
   "id": "336b3251",
   "metadata": {},
   "outputs": [],
   "source": [
    "# filter for ideal weather conditions\n",
    "data = data[data[\"temp\"]  >= 68]\n",
    "data = data[data[\"temp\"]  <= 77]\n",
    "\n",
    "data =data[data[\"cloudiness\"]<50]"
   ]
  },
  {
   "cell_type": "code",
   "execution_count": 27,
   "id": "d8c83b5a",
   "metadata": {},
   "outputs": [],
   "source": [
    "# geocoordinates\n",
    "coordinates = \"-31.9523, 115.8613\"\n",
    "search = \"lodging\"\n",
    "radius = 5000\n",
    "\n",
    "# set up a parameters dictionary\n",
    "params = {\n",
    "    \"location\": coordinates,\n",
    "    \"types\": search,\n",
    "    \"radius\": radius,\n",
    "    \"key\": g_key\n",
    "}"
   ]
  },
  {
   "cell_type": "code",
   "execution_count": 28,
   "id": "8330d8dc",
   "metadata": {},
   "outputs": [],
   "source": [
    "base_url = \"https://maps.googleapis.com/maps/api/place/nearbysearch/json\"\n",
    "response = requests.get(base_url, params=params).json()"
   ]
  },
  {
   "cell_type": "code",
   "execution_count": 29,
   "id": "9472c2b0",
   "metadata": {},
   "outputs": [
    {
     "name": "stdout",
     "output_type": "stream",
     "text": [
      "Starting search...\n",
      "Cant find hotel... skipping\n",
      "Cant find hotel... skipping\n",
      "Cant find hotel... skipping\n",
      "Cant find hotel... skipping\n",
      "Cant find hotel... skipping\n",
      "Cant find hotel... skipping\n",
      "Cant find hotel... skipping\n",
      "Cant find hotel... skipping\n",
      "Cant find hotel... skipping\n",
      "Cant find hotel... skipping\n",
      "Cant find hotel... skipping\n",
      "Cant find hotel... skipping\n",
      "Cant find hotel... skipping\n",
      "Cant find hotel... skipping\n",
      "Cant find hotel... skipping\n",
      "Cant find hotel... skipping\n",
      "Cant find hotel... skipping\n",
      "Cant find hotel... skipping\n",
      "Cant find hotel... skipping\n",
      "Cant find hotel... skipping\n",
      "Cant find hotel... skipping\n",
      "Cant find hotel... skipping\n",
      "Cant find hotel... skipping\n",
      "Cant find hotel... skipping\n",
      "Cant find hotel... skipping\n",
      "Cant find hotel... skipping\n",
      "Cant find hotel... skipping\n",
      "Cant find hotel... skipping\n",
      "Cant find hotel... skipping\n",
      "Cant find hotel... skipping\n",
      "Cant find hotel... skipping\n",
      "Cant find hotel... skipping\n",
      "Cant find hotel... skipping\n",
      "Cant find hotel... skipping\n",
      "Cant find hotel... skipping\n",
      "Cant find hotel... skipping\n",
      "Cant find hotel... skipping\n",
      "Cant find hotel... skipping\n",
      "Cant find hotel... skipping\n",
      "Cant find hotel... skipping\n",
      "Cant find hotel... skipping\n",
      "Cant find hotel... skipping\n",
      "Cant find hotel... skipping\n",
      "Search Done\n"
     ]
    }
   ],
   "source": [
    "data['Hotel Name'] = \" \"\n",
    "search = \"lodging\"\n",
    "radius = 5000\n",
    "params = {\n",
    "            \"types\": search,\n",
    "            \"radius\": radius,\n",
    "            \"key\": g_key\n",
    "        }\n",
    "\n",
    "# find hotel names\n",
    "print(\"Starting search...\")\n",
    "for index, row in data.iterrows():\n",
    "        \n",
    "    coordinates = f\"{row['lat']},{row['long']}\"\n",
    "    params[\"location\"] = coordinates\n",
    "    try:\n",
    "        response = requests.get(base_url, params=params).json()\n",
    "        data.loc[index,'Hotel Name']  =response['results'][0]['name']\n",
    "    except (KeyError, IndexError):\n",
    "        data = data.drop(index)\n",
    "        print('Cant find hotel... skipping')\n",
    "print('Search Done')"
   ]
  },
  {
   "cell_type": "code",
   "execution_count": 30,
   "id": "a3dc1612",
   "metadata": {},
   "outputs": [],
   "source": [
    "# hotels\n",
    "hotels = data"
   ]
  },
  {
   "cell_type": "code",
   "execution_count": 32,
   "id": "898a3d70",
   "metadata": {
    "scrolled": false
   },
   "outputs": [
    {
     "data": {
      "application/vnd.jupyter.widget-view+json": {
       "model_id": "10522c5036464e9fa54f994d583526db",
       "version_major": 2,
       "version_minor": 0
      },
      "text/plain": [
       "Figure(layout=FigureLayout(height='420px'))"
      ]
     },
     "metadata": {},
     "output_type": "display_data"
    }
   ],
   "source": [
    "# marker co ordinates\n",
    "mark_cord = hotels[['lat', 'long']]\n",
    "\n",
    "\n",
    "markers = gmaps.marker_layer(mark_cord)\n",
    "figure.add_layer(markers)\n",
    "figure"
   ]
  }
 ],
 "metadata": {
  "kernelspec": {
   "display_name": "Python 3",
   "language": "python",
   "name": "python3"
  },
  "language_info": {
   "codemirror_mode": {
    "name": "ipython",
    "version": 3
   },
   "file_extension": ".py",
   "mimetype": "text/x-python",
   "name": "python",
   "nbconvert_exporter": "python",
   "pygments_lexer": "ipython3",
   "version": "3.8.2"
  }
 },
 "nbformat": 4,
 "nbformat_minor": 5
}
