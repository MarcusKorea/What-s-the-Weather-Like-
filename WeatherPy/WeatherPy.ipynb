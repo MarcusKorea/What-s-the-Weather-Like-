{
 "cells": [
  {
   "cell_type": "markdown",
   "id": "55e8b99e",
   "metadata": {},
   "source": [
    "### Import Packages"
   ]
  },
  {
   "cell_type": "code",
   "execution_count": 1,
   "id": "ea7d8547",
   "metadata": {},
   "outputs": [],
   "source": [
    "import pandas as pd\n",
    "import matplotlib.pyplot as plt\n",
    "from citipy import citipy\n",
    "import requests\n",
    "import json\n",
    "from api_keys import weather_api_key\n",
    "import numpy as np"
   ]
  },
  {
   "cell_type": "markdown",
   "id": "341af58c",
   "metadata": {},
   "source": [
    "## Part I - WeatherPy"
   ]
  },
  {
   "cell_type": "markdown",
   "id": "f5682da6",
   "metadata": {},
   "source": [
    "#### Getting 500 or more random cities"
   ]
  },
  {
   "cell_type": "code",
   "execution_count": 2,
   "id": "73146c9f",
   "metadata": {},
   "outputs": [],
   "source": [
    "# Create 1500 random latitude and longtitutde values\n",
    "# some coordinates might be similar so when using citipy to find the nearest city,\n",
    "# some cities might be duplicated so we create extra coordinates just in case\n",
    "\n",
    "lat = np.random.uniform(-90,90,1500)\n",
    "long = np.random.uniform(-180,180,1500)\n"
   ]
  },
  {
   "cell_type": "code",
   "execution_count": 3,
   "id": "4df6f02e",
   "metadata": {},
   "outputs": [],
   "source": [
    "# create a dataframe for the coordinates\n",
    "city_info = pd.DataFrame({'lat':lat,'long':long})"
   ]
  },
  {
   "cell_type": "code",
   "execution_count": 4,
   "id": "d38fbb69",
   "metadata": {},
   "outputs": [],
   "source": [
    "# store city names of the closest city to the coordinates\n",
    "\n",
    "city_name = []\n",
    "country_code = []\n",
    "for row in range(len(city_info)):\n",
    "    lat_cord = city_info.iloc[row][0]\n",
    "    long_cord = city_info.iloc[row][1]\n",
    "    city = citipy.nearest_city(lat_cord,long_cord)\n",
    "    city_name.append(city.city_name)\n",
    "    country_code.append(city.country_code)\n",
    "    "
   ]
  },
  {
   "cell_type": "code",
   "execution_count": 5,
   "id": "dab58602",
   "metadata": {},
   "outputs": [
    {
     "data": {
      "text/html": [
       "<div>\n",
       "<style scoped>\n",
       "    .dataframe tbody tr th:only-of-type {\n",
       "        vertical-align: middle;\n",
       "    }\n",
       "\n",
       "    .dataframe tbody tr th {\n",
       "        vertical-align: top;\n",
       "    }\n",
       "\n",
       "    .dataframe thead th {\n",
       "        text-align: right;\n",
       "    }\n",
       "</style>\n",
       "<table border=\"1\" class=\"dataframe\">\n",
       "  <thead>\n",
       "    <tr style=\"text-align: right;\">\n",
       "      <th></th>\n",
       "      <th>lat</th>\n",
       "      <th>long</th>\n",
       "      <th>closest city</th>\n",
       "      <th>country code</th>\n",
       "    </tr>\n",
       "  </thead>\n",
       "  <tbody>\n",
       "    <tr>\n",
       "      <th>0</th>\n",
       "      <td>24.349897</td>\n",
       "      <td>-12.655966</td>\n",
       "      <td>atar</td>\n",
       "      <td>mr</td>\n",
       "    </tr>\n",
       "    <tr>\n",
       "      <th>1</th>\n",
       "      <td>44.658395</td>\n",
       "      <td>-114.138179</td>\n",
       "      <td>hailey</td>\n",
       "      <td>us</td>\n",
       "    </tr>\n",
       "    <tr>\n",
       "      <th>2</th>\n",
       "      <td>35.963911</td>\n",
       "      <td>146.602162</td>\n",
       "      <td>kamaishi</td>\n",
       "      <td>jp</td>\n",
       "    </tr>\n",
       "    <tr>\n",
       "      <th>3</th>\n",
       "      <td>31.240308</td>\n",
       "      <td>-80.264568</td>\n",
       "      <td>wilmington island</td>\n",
       "      <td>us</td>\n",
       "    </tr>\n",
       "    <tr>\n",
       "      <th>4</th>\n",
       "      <td>30.561670</td>\n",
       "      <td>-92.332409</td>\n",
       "      <td>eunice</td>\n",
       "      <td>us</td>\n",
       "    </tr>\n",
       "    <tr>\n",
       "      <th>...</th>\n",
       "      <td>...</td>\n",
       "      <td>...</td>\n",
       "      <td>...</td>\n",
       "      <td>...</td>\n",
       "    </tr>\n",
       "    <tr>\n",
       "      <th>1495</th>\n",
       "      <td>-56.382281</td>\n",
       "      <td>-140.487472</td>\n",
       "      <td>rikitea</td>\n",
       "      <td>pf</td>\n",
       "    </tr>\n",
       "    <tr>\n",
       "      <th>1496</th>\n",
       "      <td>77.775835</td>\n",
       "      <td>-46.753704</td>\n",
       "      <td>ilulissat</td>\n",
       "      <td>gl</td>\n",
       "    </tr>\n",
       "    <tr>\n",
       "      <th>1497</th>\n",
       "      <td>-75.934286</td>\n",
       "      <td>-178.594902</td>\n",
       "      <td>vaini</td>\n",
       "      <td>to</td>\n",
       "    </tr>\n",
       "    <tr>\n",
       "      <th>1498</th>\n",
       "      <td>-47.527502</td>\n",
       "      <td>-18.794159</td>\n",
       "      <td>arraial do cabo</td>\n",
       "      <td>br</td>\n",
       "    </tr>\n",
       "    <tr>\n",
       "      <th>1499</th>\n",
       "      <td>12.537291</td>\n",
       "      <td>119.917884</td>\n",
       "      <td>buluang</td>\n",
       "      <td>ph</td>\n",
       "    </tr>\n",
       "  </tbody>\n",
       "</table>\n",
       "<p>1500 rows × 4 columns</p>\n",
       "</div>"
      ],
      "text/plain": [
       "            lat        long       closest city country code\n",
       "0     24.349897  -12.655966               atar           mr\n",
       "1     44.658395 -114.138179             hailey           us\n",
       "2     35.963911  146.602162           kamaishi           jp\n",
       "3     31.240308  -80.264568  wilmington island           us\n",
       "4     30.561670  -92.332409             eunice           us\n",
       "...         ...         ...                ...          ...\n",
       "1495 -56.382281 -140.487472            rikitea           pf\n",
       "1496  77.775835  -46.753704          ilulissat           gl\n",
       "1497 -75.934286 -178.594902              vaini           to\n",
       "1498 -47.527502  -18.794159    arraial do cabo           br\n",
       "1499  12.537291  119.917884            buluang           ph\n",
       "\n",
       "[1500 rows x 4 columns]"
      ]
     },
     "execution_count": 5,
     "metadata": {},
     "output_type": "execute_result"
    }
   ],
   "source": [
    "# add closest city and country codes to data frame\n",
    "city_info['closest city'] = city_name\n",
    "city_info['country code'] = country_code\n",
    "city_info"
   ]
  },
  {
   "cell_type": "code",
   "execution_count": 6,
   "id": "71d1935f",
   "metadata": {},
   "outputs": [
    {
     "name": "stdout",
     "output_type": "stream",
     "text": [
      " We have 625 unique cities\n"
     ]
    }
   ],
   "source": [
    "# remove the duplicate cities (if any)\n",
    "city_info = city_info.drop_duplicates('closest city')\n",
    "\n",
    "# check how many unique cities we have\n",
    "print(f' We have {city_info.shape[0]} unique cities')\n"
   ]
  },
  {
   "cell_type": "markdown",
   "id": "32205904",
   "metadata": {},
   "source": [
    "#### Using openweather API to to retrieve Temperature, Humidity, Cloudiness, Wind Speed"
   ]
  },
  {
   "cell_type": "code",
   "execution_count": 7,
   "id": "6e09b5d3",
   "metadata": {},
   "outputs": [],
   "source": [
    "# store everything needed for the url to read the api\n",
    "# url need when searching by geographical co ordinates\n",
    "coord_url = \"http://api.openweathermap.org/data/2.5/weather?\"\n",
    "units = \"&units=imperial\"\n",
    "weather_api_key = \"&appid=\"+weather_api_key"
   ]
  },
  {
   "cell_type": "code",
   "execution_count": 8,
   "id": "91e21b13",
   "metadata": {},
   "outputs": [],
   "source": [
    "# create extra columns in city_info\n",
    "temp = []\n",
    "humidity = []\n",
    "cloudiness = []\n",
    "wind_speed = []"
   ]
  },
  {
   "cell_type": "code",
   "execution_count": 9,
   "id": "adfb21b7",
   "metadata": {},
   "outputs": [
    {
     "data": {
      "text/plain": [
       "{'coord': {'lon': -12.656, 'lat': 24.3499},\n",
       " 'weather': [{'id': 800,\n",
       "   'main': 'Clear',\n",
       "   'description': 'clear sky',\n",
       "   'icon': '01d'}],\n",
       " 'base': 'stations',\n",
       " 'main': {'temp': 91.69,\n",
       "  'feels_like': 88.81,\n",
       "  'temp_min': 91.69,\n",
       "  'temp_max': 91.69,\n",
       "  'pressure': 1015,\n",
       "  'humidity': 25,\n",
       "  'sea_level': 1015,\n",
       "  'grnd_level': 991},\n",
       " 'visibility': 10000,\n",
       " 'wind': {'speed': 14.54, 'deg': 350, 'gust': 14.29},\n",
       " 'clouds': {'all': 0},\n",
       " 'dt': 1631707732,\n",
       " 'sys': {'country': 'MR', 'sunrise': 1631687817, 'sunset': 1631732094},\n",
       " 'timezone': 3600,\n",
       " 'id': 2380975,\n",
       " 'name': 'Bîr Mogreïn',\n",
       " 'cod': 200}"
      ]
     },
     "execution_count": 9,
     "metadata": {},
     "output_type": "execute_result"
    }
   ],
   "source": [
    "lat = 'lat='+str(city_info['lat'][0])\n",
    "long = '&lon='+str(city_info['long'][0])\n",
    "\n",
    "# create the url\n",
    "new_url = coord_url+lat+long+weather_api_key+units\n",
    "    \n",
    "data =requests.get(new_url).json()\n"
   ]
  },
  {
   "cell_type": "code",
   "execution_count": 10,
   "id": "4a3976e9",
   "metadata": {
    "scrolled": true
   },
   "outputs": [
    {
     "name": "stdout",
     "output_type": "stream",
     "text": [
      "starting search...\n",
      "search done\n"
     ]
    }
   ],
   "source": [
    "print('starting search...')\n",
    "for row in city_info.iterrows():\n",
    "    # store lat and long values\n",
    "    lat = 'lat='+str(row[1]['lat'])\n",
    "    long = '&lon='+str(row[1]['long'])\n",
    "\n",
    "    # create the url\n",
    "    new_url = coord_url+lat+long+weather_api_key+units\n",
    "    \n",
    "    # read the data of the city from the API\n",
    "    data =requests.get(new_url).json()\n",
    "    \n",
    "    # append values to their respective lists\n",
    "    temp.append(data['main']['temp'])\n",
    "    humidity.append(data['main']['humidity'])\n",
    "    cloudiness.append(data['clouds']['all'])\n",
    "    wind_speed.append(data['wind']['speed'])\n",
    "print('search done')"
   ]
  },
  {
   "cell_type": "code",
   "execution_count": 11,
   "id": "7ead4021",
   "metadata": {},
   "outputs": [
    {
     "name": "stderr",
     "output_type": "stream",
     "text": [
      "<ipython-input-11-def40fca5ec7>:1: SettingWithCopyWarning: \n",
      "A value is trying to be set on a copy of a slice from a DataFrame.\n",
      "Try using .loc[row_indexer,col_indexer] = value instead\n",
      "\n",
      "See the caveats in the documentation: https://pandas.pydata.org/pandas-docs/stable/user_guide/indexing.html#returning-a-view-versus-a-copy\n",
      "  city_info['temp'] = temp\n",
      "<ipython-input-11-def40fca5ec7>:2: SettingWithCopyWarning: \n",
      "A value is trying to be set on a copy of a slice from a DataFrame.\n",
      "Try using .loc[row_indexer,col_indexer] = value instead\n",
      "\n",
      "See the caveats in the documentation: https://pandas.pydata.org/pandas-docs/stable/user_guide/indexing.html#returning-a-view-versus-a-copy\n",
      "  city_info['humidity'] = humidity\n",
      "<ipython-input-11-def40fca5ec7>:3: SettingWithCopyWarning: \n",
      "A value is trying to be set on a copy of a slice from a DataFrame.\n",
      "Try using .loc[row_indexer,col_indexer] = value instead\n",
      "\n",
      "See the caveats in the documentation: https://pandas.pydata.org/pandas-docs/stable/user_guide/indexing.html#returning-a-view-versus-a-copy\n",
      "  city_info['cloudiness'] = cloudiness\n",
      "<ipython-input-11-def40fca5ec7>:4: SettingWithCopyWarning: \n",
      "A value is trying to be set on a copy of a slice from a DataFrame.\n",
      "Try using .loc[row_indexer,col_indexer] = value instead\n",
      "\n",
      "See the caveats in the documentation: https://pandas.pydata.org/pandas-docs/stable/user_guide/indexing.html#returning-a-view-versus-a-copy\n",
      "  city_info['wind speed'] = wind_speed\n"
     ]
    }
   ],
   "source": [
    "city_info['temp'] = temp\n",
    "city_info['humidity'] = humidity\n",
    "city_info['cloudiness'] = cloudiness\n",
    "city_info['wind speed'] = wind_speed"
   ]
  },
  {
   "cell_type": "code",
   "execution_count": 12,
   "id": "8679d8d6",
   "metadata": {},
   "outputs": [
    {
     "data": {
      "text/html": [
       "<div>\n",
       "<style scoped>\n",
       "    .dataframe tbody tr th:only-of-type {\n",
       "        vertical-align: middle;\n",
       "    }\n",
       "\n",
       "    .dataframe tbody tr th {\n",
       "        vertical-align: top;\n",
       "    }\n",
       "\n",
       "    .dataframe thead th {\n",
       "        text-align: right;\n",
       "    }\n",
       "</style>\n",
       "<table border=\"1\" class=\"dataframe\">\n",
       "  <thead>\n",
       "    <tr style=\"text-align: right;\">\n",
       "      <th></th>\n",
       "      <th>lat</th>\n",
       "      <th>long</th>\n",
       "      <th>closest city</th>\n",
       "      <th>country code</th>\n",
       "      <th>temp</th>\n",
       "      <th>humidity</th>\n",
       "      <th>cloudiness</th>\n",
       "      <th>wind speed</th>\n",
       "    </tr>\n",
       "  </thead>\n",
       "  <tbody>\n",
       "    <tr>\n",
       "      <th>0</th>\n",
       "      <td>24.349897</td>\n",
       "      <td>-12.655966</td>\n",
       "      <td>atar</td>\n",
       "      <td>mr</td>\n",
       "      <td>91.69</td>\n",
       "      <td>25</td>\n",
       "      <td>0</td>\n",
       "      <td>14.54</td>\n",
       "    </tr>\n",
       "    <tr>\n",
       "      <th>1</th>\n",
       "      <td>44.658395</td>\n",
       "      <td>-114.138179</td>\n",
       "      <td>hailey</td>\n",
       "      <td>us</td>\n",
       "      <td>43.84</td>\n",
       "      <td>37</td>\n",
       "      <td>1</td>\n",
       "      <td>0.00</td>\n",
       "    </tr>\n",
       "    <tr>\n",
       "      <th>2</th>\n",
       "      <td>35.963911</td>\n",
       "      <td>146.602162</td>\n",
       "      <td>kamaishi</td>\n",
       "      <td>jp</td>\n",
       "      <td>72.01</td>\n",
       "      <td>77</td>\n",
       "      <td>100</td>\n",
       "      <td>20.51</td>\n",
       "    </tr>\n",
       "    <tr>\n",
       "      <th>3</th>\n",
       "      <td>31.240308</td>\n",
       "      <td>-80.264568</td>\n",
       "      <td>wilmington island</td>\n",
       "      <td>us</td>\n",
       "      <td>81.70</td>\n",
       "      <td>72</td>\n",
       "      <td>47</td>\n",
       "      <td>9.64</td>\n",
       "    </tr>\n",
       "    <tr>\n",
       "      <th>4</th>\n",
       "      <td>30.561670</td>\n",
       "      <td>-92.332409</td>\n",
       "      <td>eunice</td>\n",
       "      <td>us</td>\n",
       "      <td>73.40</td>\n",
       "      <td>99</td>\n",
       "      <td>95</td>\n",
       "      <td>8.19</td>\n",
       "    </tr>\n",
       "    <tr>\n",
       "      <th>...</th>\n",
       "      <td>...</td>\n",
       "      <td>...</td>\n",
       "      <td>...</td>\n",
       "      <td>...</td>\n",
       "      <td>...</td>\n",
       "      <td>...</td>\n",
       "      <td>...</td>\n",
       "      <td>...</td>\n",
       "    </tr>\n",
       "    <tr>\n",
       "      <th>1474</th>\n",
       "      <td>69.548365</td>\n",
       "      <td>146.496491</td>\n",
       "      <td>belaya gora</td>\n",
       "      <td>ru</td>\n",
       "      <td>37.71</td>\n",
       "      <td>78</td>\n",
       "      <td>96</td>\n",
       "      <td>8.30</td>\n",
       "    </tr>\n",
       "    <tr>\n",
       "      <th>1475</th>\n",
       "      <td>46.498418</td>\n",
       "      <td>137.971427</td>\n",
       "      <td>svetlaya</td>\n",
       "      <td>ru</td>\n",
       "      <td>45.21</td>\n",
       "      <td>86</td>\n",
       "      <td>0</td>\n",
       "      <td>4.38</td>\n",
       "    </tr>\n",
       "    <tr>\n",
       "      <th>1483</th>\n",
       "      <td>62.484680</td>\n",
       "      <td>16.813476</td>\n",
       "      <td>timra</td>\n",
       "      <td>se</td>\n",
       "      <td>48.15</td>\n",
       "      <td>43</td>\n",
       "      <td>3</td>\n",
       "      <td>2.13</td>\n",
       "    </tr>\n",
       "    <tr>\n",
       "      <th>1489</th>\n",
       "      <td>9.922785</td>\n",
       "      <td>43.598920</td>\n",
       "      <td>borama</td>\n",
       "      <td>so</td>\n",
       "      <td>85.42</td>\n",
       "      <td>32</td>\n",
       "      <td>59</td>\n",
       "      <td>9.82</td>\n",
       "    </tr>\n",
       "    <tr>\n",
       "      <th>1499</th>\n",
       "      <td>12.537291</td>\n",
       "      <td>119.917884</td>\n",
       "      <td>buluang</td>\n",
       "      <td>ph</td>\n",
       "      <td>84.49</td>\n",
       "      <td>74</td>\n",
       "      <td>92</td>\n",
       "      <td>4.94</td>\n",
       "    </tr>\n",
       "  </tbody>\n",
       "</table>\n",
       "<p>625 rows × 8 columns</p>\n",
       "</div>"
      ],
      "text/plain": [
       "            lat        long       closest city country code   temp  humidity  \\\n",
       "0     24.349897  -12.655966               atar           mr  91.69        25   \n",
       "1     44.658395 -114.138179             hailey           us  43.84        37   \n",
       "2     35.963911  146.602162           kamaishi           jp  72.01        77   \n",
       "3     31.240308  -80.264568  wilmington island           us  81.70        72   \n",
       "4     30.561670  -92.332409             eunice           us  73.40        99   \n",
       "...         ...         ...                ...          ...    ...       ...   \n",
       "1474  69.548365  146.496491        belaya gora           ru  37.71        78   \n",
       "1475  46.498418  137.971427           svetlaya           ru  45.21        86   \n",
       "1483  62.484680   16.813476              timra           se  48.15        43   \n",
       "1489   9.922785   43.598920             borama           so  85.42        32   \n",
       "1499  12.537291  119.917884            buluang           ph  84.49        74   \n",
       "\n",
       "      cloudiness  wind speed  \n",
       "0              0       14.54  \n",
       "1              1        0.00  \n",
       "2            100       20.51  \n",
       "3             47        9.64  \n",
       "4             95        8.19  \n",
       "...          ...         ...  \n",
       "1474          96        8.30  \n",
       "1475           0        4.38  \n",
       "1483           3        2.13  \n",
       "1489          59        9.82  \n",
       "1499          92        4.94  \n",
       "\n",
       "[625 rows x 8 columns]"
      ]
     },
     "execution_count": 12,
     "metadata": {},
     "output_type": "execute_result"
    }
   ],
   "source": [
    "city_info"
   ]
  },
  {
   "cell_type": "markdown",
   "id": "ee9d7dfc",
   "metadata": {},
   "source": [
    "### Plot Lat"
   ]
  },
  {
   "cell_type": "code",
   "execution_count": 21,
   "id": "e9c5a551",
   "metadata": {
    "scrolled": false
   },
   "outputs": [
    {
     "data": {
      "image/png": "[encoded data removed]",
      "text/plain": [
       "<Figure size 432x288 with 1 Axes>"
      ]
     },
     "metadata": {
      "needs_background": "light"
     },
     "output_type": "display_data"
    }
   ],
   "source": [
    "plt.scatter(city_info['lat'],city_info['temp'])\n",
    "plt.xlabel('Latitude')\n",
    "plt.ylabel('Temperature (F)')\n",
    "plt.title('Latitude Vs Temperature (F)')\n",
    "plt.show()"
   ]
  },
  {
   "cell_type": "markdown",
   "id": "0210446b",
   "metadata": {},
   "source": [
    "We can see that as the latitutde values approach 0. The temperature increases, but the further away the values are from 0, the lower the temperature is."
   ]
  },
  {
   "cell_type": "code",
   "execution_count": 14,
   "id": "838db4a3",
   "metadata": {},
   "outputs": [
    {
     "data": {
      "image/png": "[encoded data removed]",
      "text/plain": [
       "<Figure size 432x288 with 1 Axes>"
      ]
     },
     "metadata": {
      "needs_background": "light"
     },
     "output_type": "display_data"
    }
   ],
   "source": [
    "plt.scatter(city_info['lat'],city_info['temp'])\n",
    "plt.xlabel('Temperature')\n",
    "plt.ylabel('Latitude')\n",
    "plt.title('Temperature (F) Vs Latitude')\n",
    "plt.show()"
   ]
  },
  {
   "cell_type": "code",
   "execution_count": 15,
   "id": "38dc5db1",
   "metadata": {},
   "outputs": [
    {
     "data": {
      "image/png": "[encoded data removed]",
      "text/plain": [
       "<Figure size 432x288 with 1 Axes>"
      ]
     },
     "metadata": {
      "needs_background": "light"
     },
     "output_type": "display_data"
    }
   ],
   "source": [
    "plt.scatter(city_info['humidity'],city_info['lat'])\n",
    "plt.xlabel('Humidity')\n",
    "plt.ylabel('Latitude')\n",
    "plt.title('Humidity (%) Vs Latitude')\n",
    "plt.show()"
   ]
  },
  {
   "cell_type": "code",
   "execution_count": 16,
   "id": "1afb34af",
   "metadata": {},
   "outputs": [
    {
     "data": {
      "image/png": "[encoded data removed]",
      "text/plain": [
       "<Figure size 432x288 with 1 Axes>"
      ]
     },
     "metadata": {
      "needs_background": "light"
     },
     "output_type": "display_data"
    }
   ],
   "source": [
    "plt.scatter(city_info['temp'],city_info['cloudiness'])\n",
    "plt.xlabel('Latitude')\n",
    "plt.ylabel('cloudiness')\n",
    "plt.title('cloudiness (F) Vs Latitude')\n",
    "plt.show()"
   ]
  },
  {
   "cell_type": "code",
   "execution_count": 17,
   "id": "d96442f3",
   "metadata": {},
   "outputs": [
    {
     "data": {
      "image/png": "[encoded data removed]",
      "text/plain": [
       "<Figure size 432x288 with 1 Axes>"
      ]
     },
     "metadata": {
      "needs_background": "light"
     },
     "output_type": "display_data"
    }
   ],
   "source": [
    "plt.scatter(city_info['temp'],city_info['lat'])\n",
    "plt.xlabel('Latitude')\n",
    "plt.ylabel('Temperature')\n",
    "plt.title('Temperature (F) Vs Latitude')\n",
    "plt.show()"
   ]
  },
  {
   "cell_type": "code",
   "execution_count": null,
   "id": "1c7cdfb9",
   "metadata": {},
   "outputs": [],
   "source": []
  }
 ],
 "metadata": {
  "kernelspec": {
   "display_name": "Python 3",
   "language": "python",
   "name": "python3"
  },
  "language_info": {
   "codemirror_mode": {
    "name": "ipython",
    "version": 3
   },
   "file_extension": ".py",
   "mimetype": "text/x-python",
   "name": "python",
   "nbconvert_exporter": "python",
   "pygments_lexer": "ipython3",
   "version": "3.8.2"
  }
 },
 "nbformat": 4,
 "nbformat_minor": 5
}
